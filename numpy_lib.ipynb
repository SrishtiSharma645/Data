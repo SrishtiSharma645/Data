{
  "nbformat": 4,
  "nbformat_minor": 0,
  "metadata": {
    "colab": {
      "provenance": []
    },
    "kernelspec": {
      "name": "python3",
      "display_name": "Python 3"
    },
    "language_info": {
      "name": "python"
    }
  },
  "cells": [
    {
      "cell_type": "code",
      "execution_count": null,
      "metadata": {
        "colab": {
          "base_uri": "https://localhost:8080/"
        },
        "id": "nbFW6zPQNZ5q",
        "outputId": "94a87467-43eb-4d96-ee10-701a25bb0c48"
      },
      "outputs": [
        {
          "output_type": "stream",
          "name": "stdout",
          "text": [
            "[1 2 3 4] <class 'numpy.ndarray'>\n",
            "1\n"
          ]
        }
      ],
      "source": [
        "import numpy as np\n",
        "x=np.array([1,2,3,4])      #array of list\n",
        "print(x,type(x))\n",
        "x\n",
        "print(x.ndim)               #no of dimension\n"
      ]
    },
    {
      "cell_type": "code",
      "source": [
        "y=[1,2,3,4]\n",
        "print(y,type(y))\n"
      ],
      "metadata": {
        "colab": {
          "base_uri": "https://localhost:8080/"
        },
        "id": "YvrJzTQxNyo4",
        "outputId": "4d948b63-479e-4796-8548-491fa1c461e7"
      },
      "execution_count": null,
      "outputs": [
        {
          "output_type": "stream",
          "name": "stdout",
          "text": [
            "[1, 2, 3, 4] <class 'list'>\n"
          ]
        }
      ]
    },
    {
      "cell_type": "code",
      "source": [
        "%timeit [j**4 for j in range(1,9)]      #list time"
      ],
      "metadata": {
        "colab": {
          "base_uri": "https://localhost:8080/"
        },
        "id": "LFLeqACFPzb-",
        "outputId": "1b65fda0-0ada-4ac0-e08c-526a52245f4b"
      },
      "execution_count": null,
      "outputs": [
        {
          "output_type": "stream",
          "name": "stdout",
          "text": [
            "8.69 µs ± 4.27 µs per loop (mean ± std. dev. of 7 runs, 100000 loops each)\n"
          ]
        }
      ]
    },
    {
      "cell_type": "code",
      "source": [
        "%timeit np.arange(1,9)**4              # numpy array time is less than list"
      ],
      "metadata": {
        "colab": {
          "base_uri": "https://localhost:8080/"
        },
        "id": "dr7_LG5bQ7DQ",
        "outputId": "f4985191-35b6-4262-db32-484d049febde"
      },
      "execution_count": null,
      "outputs": [
        {
          "output_type": "stream",
          "name": "stdout",
          "text": [
            "3.72 µs ± 1.25 µs per loop (mean ± std. dev. of 7 runs, 100000 loops each)\n"
          ]
        }
      ]
    },
    {
      "cell_type": "markdown",
      "source": [
        "**ARRAY CREATION**"
      ],
      "metadata": {
        "id": "8L_zLoCISl99"
      }
    },
    {
      "cell_type": "code",
      "source": [
        "l=[]                  #1D array\n",
        "for i in range(1,5):\n",
        "  int_1=int(input(\"enter:\"))\n",
        "  l.append(int_1)\n",
        "\n",
        "print(np.array(l))"
      ],
      "metadata": {
        "colab": {
          "base_uri": "https://localhost:8080/"
        },
        "id": "mxUoEfwoStJ9",
        "outputId": "37d7a062-6d5b-4c0c-a7be-36f77d54244b"
      },
      "execution_count": null,
      "outputs": [
        {
          "output_type": "stream",
          "name": "stdout",
          "text": [
            "enter:5\n",
            "enter:6\n",
            "enter:5\n",
            "enter:5\n",
            "[5 6 5 5]\n"
          ]
        }
      ]
    },
    {
      "cell_type": "code",
      "source": [
        "ar2 = np.array([[1,2,3,4],[1,2,3,4]])         #2D array\n",
        "print(ar2)\n",
        "print(ar2.ndim)\n",
        "\n",
        "a2 = np.array([[1,2,3,4]])                   #2D array\n",
        "print(a2)\n",
        "print(a2.ndim)"
      ],
      "metadata": {
        "colab": {
          "base_uri": "https://localhost:8080/"
        },
        "id": "b3aagryZUdQE",
        "outputId": "906e30f6-43a8-45e0-f8e9-6dcd44e6fcf3"
      },
      "execution_count": null,
      "outputs": [
        {
          "output_type": "stream",
          "name": "stdout",
          "text": [
            "[[1 2 3 4]\n",
            " [1 2 3 4]]\n",
            "2\n",
            "[[1 2 3 4]]\n",
            "2\n"
          ]
        }
      ]
    },
    {
      "cell_type": "code",
      "source": [
        "ar3 = np.array([[[1,2,3,4],[1,2,3,4]]])        #3D array\n",
        "print(ar3)\n",
        "print(ar3.ndim)"
      ],
      "metadata": {
        "colab": {
          "base_uri": "https://localhost:8080/"
        },
        "id": "PbNO4DHdVv2Q",
        "outputId": "79904715-50c4-4398-f2c3-4afa68b915ee"
      },
      "execution_count": null,
      "outputs": [
        {
          "output_type": "stream",
          "name": "stdout",
          "text": [
            "[[[1 2 3 4]\n",
            "  [1 2 3 4]]]\n",
            "3\n"
          ]
        }
      ]
    },
    {
      "cell_type": "code",
      "source": [
        "arn = np.array([1,2,3,4],ndmin = 10)           #nD array\n",
        "print(arn)                                     #ndmin set no of dim\n",
        "print(arn.ndim)"
      ],
      "metadata": {
        "colab": {
          "base_uri": "https://localhost:8080/"
        },
        "id": "-Hojbf2XWJ2U",
        "outputId": "3f01d0b9-abc6-4e28-bd58-710e73f25439"
      },
      "execution_count": null,
      "outputs": [
        {
          "output_type": "stream",
          "name": "stdout",
          "text": [
            "[[[[[[[[[[1 2 3 4]]]]]]]]]]\n",
            "10\n"
          ]
        }
      ]
    },
    {
      "cell_type": "markdown",
      "source": [
        "**SPECIAL ARRAY CREATION**"
      ],
      "metadata": {
        "id": "J2BSew-UYZ2v"
      }
    },
    {
      "cell_type": "code",
      "source": [
        "#zeros\n",
        "arr = np.zeros(4)          #1D\n",
        "arr_1 = np.zeros((3,4))     #2D\n",
        "\n",
        "print(arr)\n",
        "print()\n",
        "print(arr_1)"
      ],
      "metadata": {
        "colab": {
          "base_uri": "https://localhost:8080/"
        },
        "id": "roefYof_Yd-z",
        "outputId": "cb72b546-ec52-4876-9148-f7e2cf2c8f30"
      },
      "execution_count": null,
      "outputs": [
        {
          "output_type": "stream",
          "name": "stdout",
          "text": [
            "[0. 0. 0. 0.]\n",
            "\n",
            "[[0. 0. 0. 0.]\n",
            " [0. 0. 0. 0.]\n",
            " [0. 0. 0. 0.]]\n"
          ]
        }
      ]
    },
    {
      "cell_type": "code",
      "source": [
        "#ones\n",
        "arr = np.ones(4)\n",
        "print(arr)"
      ],
      "metadata": {
        "colab": {
          "base_uri": "https://localhost:8080/"
        },
        "id": "5d1DrRbNaE6u",
        "outputId": "af2af23d-85b9-465c-cf2b-61d3b4ac6897"
      },
      "execution_count": null,
      "outputs": [
        {
          "output_type": "stream",
          "name": "stdout",
          "text": [
            "[1. 1. 1. 1.]\n"
          ]
        }
      ]
    },
    {
      "cell_type": "code",
      "source": [
        "#empty array\n",
        "arr = np.empty(4)\n",
        "print(arr)"
      ],
      "metadata": {
        "colab": {
          "base_uri": "https://localhost:8080/"
        },
        "id": "ru7Sl9mPaqLv",
        "outputId": "5339fc39-a8a7-4262-9d12-6bfdb1f0d7be"
      },
      "execution_count": null,
      "outputs": [
        {
          "output_type": "stream",
          "name": "stdout",
          "text": [
            "[1. 1. 1. 1.]\n"
          ]
        }
      ]
    },
    {
      "cell_type": "code",
      "source": [
        "#range\n",
        "arr= np.arange(4)\n",
        "print(arr)"
      ],
      "metadata": {
        "colab": {
          "base_uri": "https://localhost:8080/"
        },
        "id": "vi8QursRbxW3",
        "outputId": "89a0c588-4a72-4e79-aae4-a2a0b3be0313"
      },
      "execution_count": null,
      "outputs": [
        {
          "output_type": "stream",
          "name": "stdout",
          "text": [
            "[0 1 2 3]\n"
          ]
        }
      ]
    },
    {
      "cell_type": "code",
      "source": [
        "#identity matrix\n",
        "arr = np.eye(3)      # 3X3\n",
        "print(arr)\n",
        "print()\n",
        "arr1 = np.eye(3,5)    # 3X5\n",
        "print(arr1)"
      ],
      "metadata": {
        "colab": {
          "base_uri": "https://localhost:8080/"
        },
        "id": "buTmuyaJcVa3",
        "outputId": "84170eb4-98a3-405c-ec8a-1b28d1684120"
      },
      "execution_count": null,
      "outputs": [
        {
          "output_type": "stream",
          "name": "stdout",
          "text": [
            "[[1. 0. 0.]\n",
            " [0. 1. 0.]\n",
            " [0. 0. 1.]]\n",
            "\n",
            "[[1. 0. 0. 0. 0.]\n",
            " [0. 1. 0. 0. 0.]\n",
            " [0. 0. 1. 0. 0.]]\n"
          ]
        }
      ]
    },
    {
      "cell_type": "code",
      "source": [
        "#linspace\n",
        "arr = np.linspace(0,20,num=5)\n",
        "print(arr)"
      ],
      "metadata": {
        "colab": {
          "base_uri": "https://localhost:8080/"
        },
        "id": "Im0eFivldZZ7",
        "outputId": "1e7c8488-e849-486b-a565-9c471b2d6568"
      },
      "execution_count": null,
      "outputs": [
        {
          "output_type": "stream",
          "name": "stdout",
          "text": [
            "[ 0.  5. 10. 15. 20.]\n"
          ]
        }
      ]
    },
    {
      "cell_type": "markdown",
      "source": [
        "**CREATING RANDOM VALUE ARRAY**"
      ],
      "metadata": {
        "id": "0MzG63IcfWew"
      }
    },
    {
      "cell_type": "code",
      "source": [
        "#rand()         (GENERATE NO B/W 0,1)\n",
        "var=np.random.rand(4)    #1D\n",
        "print(var)\n",
        "print()\n",
        "var1=np.random.rand(3,5)    #2D\n",
        "print(var1)"
      ],
      "metadata": {
        "colab": {
          "base_uri": "https://localhost:8080/"
        },
        "id": "PgpyWFrwfe6n",
        "outputId": "1e7a9a35-aa9e-4ed3-d2c8-2f3a431974cb"
      },
      "execution_count": null,
      "outputs": [
        {
          "output_type": "stream",
          "name": "stdout",
          "text": [
            "[0.51984507 0.72476066 0.00383315 0.83341202]\n",
            "\n",
            "[[0.15054428 0.82440757 0.32013484 0.55505681 0.4131484 ]\n",
            " [0.17760457 0.32303256 0.88523015 0.16331374 0.570822  ]\n",
            " [0.80622935 0.16047366 0.67328118 0.59777068 0.76872426]]\n"
          ]
        }
      ]
    },
    {
      "cell_type": "code",
      "source": [
        "#randn()               value close to 0 (+ve,-ve)\n",
        "var1 =np.random.randn(4)\n",
        "print(var1)"
      ],
      "metadata": {
        "colab": {
          "base_uri": "https://localhost:8080/"
        },
        "id": "WwCXNdFDxGC7",
        "outputId": "c1d21c1a-4e7e-4c04-f9cc-e498cddb75d1"
      },
      "execution_count": null,
      "outputs": [
        {
          "output_type": "stream",
          "name": "stdout",
          "text": [
            "[-0.09050216  2.22756315  0.697822    1.8774782 ]\n"
          ]
        }
      ]
    },
    {
      "cell_type": "code",
      "source": [
        "#ranf()               range [0.0,1.0)\n",
        "var=np.random.ranf(4)\n",
        "print(var)"
      ],
      "metadata": {
        "colab": {
          "base_uri": "https://localhost:8080/"
        },
        "id": "JTISINMSyVPu",
        "outputId": "309fcd53-8064-4e61-d89e-531eef8bee66"
      },
      "execution_count": null,
      "outputs": [
        {
          "output_type": "stream",
          "name": "stdout",
          "text": [
            "[0.69143451 0.73259693 0.66836684 0.04210575]\n"
          ]
        }
      ]
    },
    {
      "cell_type": "code",
      "source": [
        "#randint(min,max,total_no)            generate random no b/w given range\n",
        "var=np.random.randint(5,18,4)\n",
        "print(var)"
      ],
      "metadata": {
        "colab": {
          "base_uri": "https://localhost:8080/"
        },
        "id": "VXc4VhSJzDq6",
        "outputId": "1497bc7f-c98a-4a57-c6c5-b61b9df022d0"
      },
      "execution_count": null,
      "outputs": [
        {
          "output_type": "stream",
          "name": "stdout",
          "text": [
            "[ 9  7 16  8]\n"
          ]
        }
      ]
    },
    {
      "cell_type": "markdown",
      "source": [
        "**DATA TYPE**"
      ],
      "metadata": {
        "id": "RyCPmL9B1rWk"
      }
    },
    {
      "cell_type": "code",
      "source": [
        "var=np.array([1,2,3,4])\n",
        "print(type(var))\n",
        "print(\"data type:\",var.dtype)"
      ],
      "metadata": {
        "colab": {
          "base_uri": "https://localhost:8080/"
        },
        "id": "rX4REHu71tmc",
        "outputId": "afe2930a-ed06-422f-e427-c82c44203049"
      },
      "execution_count": null,
      "outputs": [
        {
          "output_type": "stream",
          "name": "stdout",
          "text": [
            "<class 'numpy.ndarray'>\n",
            "data type: int64\n"
          ]
        }
      ]
    },
    {
      "cell_type": "markdown",
      "source": [
        "**Conversion to other data type**"
      ],
      "metadata": {
        "id": "PM1gLNMt6s9P"
      }
    },
    {
      "cell_type": "code",
      "source": [
        "x=np.array([1,2,3,4],dtype=np.int8)\n",
        "print(x)\n"
      ],
      "metadata": {
        "colab": {
          "base_uri": "https://localhost:8080/"
        },
        "id": "4WEmaavZ6zVz",
        "outputId": "2f190896-9263-440a-be0f-8e3ad9126701"
      },
      "execution_count": null,
      "outputs": [
        {
          "output_type": "stream",
          "name": "stdout",
          "text": [
            "[1 2 3 4]\n"
          ]
        }
      ]
    },
    {
      "cell_type": "code",
      "source": [
        "x=np.array([1,2,3,4],dtype=\"f\")"
      ],
      "metadata": {
        "id": "o84WGX477xe7"
      },
      "execution_count": null,
      "outputs": []
    },
    {
      "cell_type": "code",
      "source": [
        "x=np.array([1,2,3,4])\n",
        "new=np.float32(x)\n",
        "print(new)"
      ],
      "metadata": {
        "colab": {
          "base_uri": "https://localhost:8080/"
        },
        "id": "JrcSLVwL76ea",
        "outputId": "4ec7c3c8-eb30-43c5-e181-154e99ce1725"
      },
      "execution_count": null,
      "outputs": [
        {
          "output_type": "stream",
          "name": "stdout",
          "text": [
            "[1. 2. 3. 4.]\n"
          ]
        }
      ]
    },
    {
      "cell_type": "markdown",
      "source": [
        "**ARITHMETIC OP**"
      ],
      "metadata": {
        "id": "SNszGmwD8NTF"
      }
    },
    {
      "cell_type": "code",
      "source": [
        "x=np.array([1,2,3,4])\n",
        "addn=x+3    #similarly other arithmetic op\n",
        "print(add)"
      ],
      "metadata": {
        "colab": {
          "base_uri": "https://localhost:8080/"
        },
        "id": "NIaox2OK8j5Y",
        "outputId": "525cf73d-c386-4b41-9978-e2591786886e"
      },
      "execution_count": null,
      "outputs": [
        {
          "output_type": "stream",
          "name": "stdout",
          "text": [
            "[4 5 6 7]\n"
          ]
        }
      ]
    },
    {
      "cell_type": "code",
      "source": [
        "x=np.array([1,2,3,4])\n",
        "y=np.array([2,3,4,5])\n",
        "addn=x+y              #addn=np.add(x,y)\n",
        "print(add)"
      ],
      "metadata": {
        "colab": {
          "base_uri": "https://localhost:8080/"
        },
        "id": "o7pIaWdS9ZJ1",
        "outputId": "8c895f17-43c3-4212-b459-0cd4dda62db8"
      },
      "execution_count": null,
      "outputs": [
        {
          "output_type": "stream",
          "name": "stdout",
          "text": [
            "[3 5 7 9]\n"
          ]
        }
      ]
    },
    {
      "cell_type": "code",
      "source": [
        "x=np.array([1,2,3,4])\n",
        "rec=np.reciprocal(x)\n",
        "print(rec)"
      ],
      "metadata": {
        "colab": {
          "base_uri": "https://localhost:8080/"
        },
        "id": "PA7LURH5AQ3o",
        "outputId": "73ebde8b-29f1-44d5-ec6a-18fdef2df504"
      },
      "execution_count": null,
      "outputs": [
        {
          "output_type": "stream",
          "name": "stdout",
          "text": [
            "[1 0 0 0]\n"
          ]
        }
      ]
    },
    {
      "cell_type": "code",
      "source": [
        "#2d array\n",
        "x=np.array([[1,2,3,4],[1,2,3,4]])\n",
        "y=np.array([[2,3,4,5],[1,2,3,4]])\n",
        "addn=x+y              #addn=np.add(x,y)\n",
        "print(addn)\n",
        "\n"
      ],
      "metadata": {
        "colab": {
          "base_uri": "https://localhost:8080/"
        },
        "id": "H03VLXTF-_c6",
        "outputId": "fdf84a03-ae01-4ec3-cd19-298ed051e0d4"
      },
      "execution_count": null,
      "outputs": [
        {
          "output_type": "stream",
          "name": "stdout",
          "text": [
            "[[3 5 7 9]\n",
            " [2 4 6 8]]\n"
          ]
        }
      ]
    },
    {
      "cell_type": "markdown",
      "source": [
        "**ARITHMETIC FUNCTIONS**"
      ],
      "metadata": {
        "id": "ipMjMzh2Fa6N"
      }
    },
    {
      "cell_type": "code",
      "source": [
        "import numpy as np\n",
        "a=np.array([1,2,3,4,5,6])\n",
        "print(np.max(a), np.argmax(a))"
      ],
      "metadata": {
        "colab": {
          "base_uri": "https://localhost:8080/"
        },
        "id": "jScU0bLMGAbh",
        "outputId": "c82c8574-4e5e-41cd-d447-ee9a351c1a1b"
      },
      "execution_count": null,
      "outputs": [
        {
          "output_type": "stream",
          "name": "stdout",
          "text": [
            "6 5\n"
          ]
        }
      ]
    },
    {
      "cell_type": "code",
      "source": [
        "#2D\n",
        "a=np.array([[1,2,3,4],[3,5,5,6]])\n",
        "print(np.max(a,axis=1))"
      ],
      "metadata": {
        "colab": {
          "base_uri": "https://localhost:8080/"
        },
        "id": "L3L9Szm-LqEY",
        "outputId": "a4f44416-cabd-4049-a8e2-cc8162866910"
      },
      "execution_count": null,
      "outputs": [
        {
          "output_type": "stream",
          "name": "stdout",
          "text": [
            "[4 6]\n"
          ]
        }
      ]
    },
    {
      "cell_type": "code",
      "source": [
        "print(np.max(a,axis=0))"
      ],
      "metadata": {
        "colab": {
          "base_uri": "https://localhost:8080/"
        },
        "id": "obbrIkwqMSiC",
        "outputId": "90d30460-97cf-482d-e702-c3af26a73b06"
      },
      "execution_count": null,
      "outputs": [
        {
          "output_type": "stream",
          "name": "stdout",
          "text": [
            "[3 5 5 6]\n"
          ]
        }
      ]
    },
    {
      "cell_type": "code",
      "source": [
        "a=np.array([1,2,3,4,5,8])\n",
        "print(np.cumsum(a))"
      ],
      "metadata": {
        "colab": {
          "base_uri": "https://localhost:8080/"
        },
        "id": "imzSrVX4M-X3",
        "outputId": "c48eadde-7a96-4d0f-ec37-2552d0fb76eb"
      },
      "execution_count": null,
      "outputs": [
        {
          "output_type": "stream",
          "name": "stdout",
          "text": [
            "[ 1  3  6 10 15 23]\n"
          ]
        }
      ]
    },
    {
      "cell_type": "markdown",
      "source": [
        "**SHAPE & RESHAPING**"
      ],
      "metadata": {
        "id": "oIl-vNs7NvoI"
      }
    },
    {
      "cell_type": "code",
      "source": [
        "import numpy as np\n",
        "a=np.array([[1,3,4,5,6],[3,5,6,6,7]])\n",
        "print(a.shape)\n"
      ],
      "metadata": {
        "colab": {
          "base_uri": "https://localhost:8080/"
        },
        "id": "HfhQVJLuN0uI",
        "outputId": "2892627a-4932-4abc-b8ae-bb6c0a945add"
      },
      "execution_count": null,
      "outputs": [
        {
          "output_type": "stream",
          "name": "stdout",
          "text": [
            "(2, 5)\n"
          ]
        }
      ]
    },
    {
      "cell_type": "code",
      "source": [
        "a=np.array([1,2,4,5,6,7],ndmin=10)\n",
        "print(a)\n",
        "print()\n",
        "print(a.ndim)\n",
        "print()\n",
        "print(a.shape)"
      ],
      "metadata": {
        "colab": {
          "base_uri": "https://localhost:8080/"
        },
        "id": "YR2tSKA7QvUE",
        "outputId": "aef90cdd-bfa4-453a-e95f-a4ec311f5dc8"
      },
      "execution_count": null,
      "outputs": [
        {
          "output_type": "stream",
          "name": "stdout",
          "text": [
            "[[[[[[[[[[1 2 4 5 6 7]]]]]]]]]]\n",
            "\n",
            "10\n",
            "\n",
            "(1, 1, 1, 1, 1, 1, 1, 1, 1, 6)\n"
          ]
        }
      ]
    },
    {
      "cell_type": "code",
      "source": [
        "#reshaping......converting 1D to 2D\n",
        "a=np.array([1,2,3,4,5,6])\n",
        "print(a.ndim)\n",
        "print()\n",
        "y=a.reshape(2,3)\n",
        "print(y)\n",
        "print(y.ndim)"
      ],
      "metadata": {
        "colab": {
          "base_uri": "https://localhost:8080/"
        },
        "id": "6bUfKZ2HgSXG",
        "outputId": "f13bc748-7ac0-4275-d71d-35deeb989940"
      },
      "execution_count": null,
      "outputs": [
        {
          "output_type": "stream",
          "name": "stdout",
          "text": [
            "1\n",
            "\n",
            "[[1 2 3]\n",
            " [4 5 6]]\n",
            "2\n"
          ]
        }
      ]
    },
    {
      "cell_type": "code",
      "source": [
        "a=np.array([1,2,3,4,5,6])\n",
        "print(a.ndim)\n",
        "print()\n",
        "y=a.reshape(3,3)\n",
        "print(y)\n",
        "print(y.ndim)"
      ],
      "metadata": {
        "colab": {
          "base_uri": "https://localhost:8080/",
          "height": 245
        },
        "id": "6XkPnhkKhhPh",
        "outputId": "9dfd265c-6cd4-424d-d708-0068027d9cab"
      },
      "execution_count": null,
      "outputs": [
        {
          "output_type": "stream",
          "name": "stdout",
          "text": [
            "1\n",
            "\n"
          ]
        },
        {
          "output_type": "error",
          "ename": "ValueError",
          "evalue": "cannot reshape array of size 6 into shape (3,3)",
          "traceback": [
            "\u001b[0;31m---------------------------------------------------------------------------\u001b[0m",
            "\u001b[0;31mValueError\u001b[0m                                Traceback (most recent call last)",
            "\u001b[0;32m<ipython-input-19-3b5f33aaf570>\u001b[0m in \u001b[0;36m<cell line: 4>\u001b[0;34m()\u001b[0m\n\u001b[1;32m      2\u001b[0m \u001b[0mprint\u001b[0m\u001b[0;34m(\u001b[0m\u001b[0ma\u001b[0m\u001b[0;34m.\u001b[0m\u001b[0mndim\u001b[0m\u001b[0;34m)\u001b[0m\u001b[0;34m\u001b[0m\u001b[0;34m\u001b[0m\u001b[0m\n\u001b[1;32m      3\u001b[0m \u001b[0mprint\u001b[0m\u001b[0;34m(\u001b[0m\u001b[0;34m)\u001b[0m\u001b[0;34m\u001b[0m\u001b[0;34m\u001b[0m\u001b[0m\n\u001b[0;32m----> 4\u001b[0;31m \u001b[0my\u001b[0m\u001b[0;34m=\u001b[0m\u001b[0ma\u001b[0m\u001b[0;34m.\u001b[0m\u001b[0mreshape\u001b[0m\u001b[0;34m(\u001b[0m\u001b[0;36m3\u001b[0m\u001b[0;34m,\u001b[0m\u001b[0;36m3\u001b[0m\u001b[0;34m)\u001b[0m\u001b[0;34m\u001b[0m\u001b[0;34m\u001b[0m\u001b[0m\n\u001b[0m\u001b[1;32m      5\u001b[0m \u001b[0mprint\u001b[0m\u001b[0;34m(\u001b[0m\u001b[0my\u001b[0m\u001b[0;34m)\u001b[0m\u001b[0;34m\u001b[0m\u001b[0;34m\u001b[0m\u001b[0m\n\u001b[1;32m      6\u001b[0m \u001b[0mprint\u001b[0m\u001b[0;34m(\u001b[0m\u001b[0my\u001b[0m\u001b[0;34m.\u001b[0m\u001b[0mndim\u001b[0m\u001b[0;34m)\u001b[0m\u001b[0;34m\u001b[0m\u001b[0;34m\u001b[0m\u001b[0m\n",
            "\u001b[0;31mValueError\u001b[0m: cannot reshape array of size 6 into shape (3,3)"
          ]
        }
      ]
    },
    {
      "cell_type": "code",
      "source": [
        "a=np.array([1,2,3,4,5,6,7,8,9])\n",
        "print(a)\n",
        "print(a.ndim)\n",
        "print()\n",
        "x=a.reshape(3,3)\n",
        "print(x)\n",
        "print(x.ndim)"
      ],
      "metadata": {
        "colab": {
          "base_uri": "https://localhost:8080/"
        },
        "id": "eAQ2Fb9RipW3",
        "outputId": "27b222a2-da95-4ff8-9e6b-a3b7a80e5426"
      },
      "execution_count": null,
      "outputs": [
        {
          "output_type": "stream",
          "name": "stdout",
          "text": [
            "[1 2 3 4 5 6 7 8 9]\n",
            "1\n",
            "\n",
            "[[1 2 3]\n",
            " [4 5 6]\n",
            " [7 8 9]]\n",
            "2\n"
          ]
        }
      ]
    },
    {
      "cell_type": "code",
      "source": [
        "a=np.array([1,2,3,4,5,6,7,8,9,10,11,12])\n",
        "print(a)\n",
        "print(a.ndim)\n",
        "print()\n",
        "x=a.reshape(2,3,2)           #2 row,   3 inner rows, 2 cols.....converted to 3D\n",
        "print(x)\n",
        "print(x.ndim)"
      ],
      "metadata": {
        "colab": {
          "base_uri": "https://localhost:8080/"
        },
        "id": "X1SdanMRjBeB",
        "outputId": "f5d73943-3945-47f1-ef61-19e8a0ddf584"
      },
      "execution_count": null,
      "outputs": [
        {
          "output_type": "stream",
          "name": "stdout",
          "text": [
            "[ 1  2  3  4  5  6  7  8  9 10 11 12]\n",
            "1\n",
            "\n",
            "[[[ 1  2]\n",
            "  [ 3  4]\n",
            "  [ 5  6]]\n",
            "\n",
            " [[ 7  8]\n",
            "  [ 9 10]\n",
            "  [11 12]]]\n",
            "3\n"
          ]
        }
      ]
    },
    {
      "cell_type": "code",
      "source": [
        "#converting nD to 1D array\n",
        "import numpy as np\n",
        "a=np.array([1,2,3,4,5,6,7,8,9,10,11,12])\n",
        "print(a)\n",
        "print(a.ndim)\n",
        "print()\n",
        "x=a.reshape(2,3,2)           #2 row,   3 inner rows, 2 cols\n",
        "print(x)\n",
        "print(x.ndim)\n",
        "\n",
        "new=x.reshape(-1)      #1D conversion\n",
        "print(new)\n",
        "print(new.ndim)"
      ],
      "metadata": {
        "colab": {
          "base_uri": "https://localhost:8080/"
        },
        "id": "q9x7QU3nj87Z",
        "outputId": "ee67aad3-6e6f-4409-e044-76bdee19e23b"
      },
      "execution_count": null,
      "outputs": [
        {
          "output_type": "stream",
          "name": "stdout",
          "text": [
            "[ 1  2  3  4  5  6  7  8  9 10 11 12]\n",
            "1\n",
            "\n",
            "[[[ 1  2]\n",
            "  [ 3  4]\n",
            "  [ 5  6]]\n",
            "\n",
            " [[ 7  8]\n",
            "  [ 9 10]\n",
            "  [11 12]]]\n",
            "3\n",
            "[ 1  2  3  4  5  6  7  8  9 10 11 12]\n",
            "1\n"
          ]
        }
      ]
    },
    {
      "cell_type": "markdown",
      "source": [
        "**BROADCASTING**"
      ],
      "metadata": {
        "id": "FyfiRczXkp1q"
      }
    },
    {
      "cell_type": "code",
      "source": [
        "a=np.array([1,2,3,4])           #broadcasting error\n",
        "b=np.array([1,2,3])\n",
        "print(a+b)"
      ],
      "metadata": {
        "colab": {
          "base_uri": "https://localhost:8080/",
          "height": 176
        },
        "id": "JqPlH9nKku_X",
        "outputId": "3c84fe4c-2a27-4127-c956-dc88c8f57a32"
      },
      "execution_count": null,
      "outputs": [
        {
          "output_type": "error",
          "ename": "ValueError",
          "evalue": "operands could not be broadcast together with shapes (4,) (3,) ",
          "traceback": [
            "\u001b[0;31m---------------------------------------------------------------------------\u001b[0m",
            "\u001b[0;31mValueError\u001b[0m                                Traceback (most recent call last)",
            "\u001b[0;32m<ipython-input-25-f3218532740f>\u001b[0m in \u001b[0;36m<cell line: 3>\u001b[0;34m()\u001b[0m\n\u001b[1;32m      1\u001b[0m \u001b[0ma\u001b[0m\u001b[0;34m=\u001b[0m\u001b[0mnp\u001b[0m\u001b[0;34m.\u001b[0m\u001b[0marray\u001b[0m\u001b[0;34m(\u001b[0m\u001b[0;34m[\u001b[0m\u001b[0;36m1\u001b[0m\u001b[0;34m,\u001b[0m\u001b[0;36m2\u001b[0m\u001b[0;34m,\u001b[0m\u001b[0;36m3\u001b[0m\u001b[0;34m,\u001b[0m\u001b[0;36m4\u001b[0m\u001b[0;34m]\u001b[0m\u001b[0;34m)\u001b[0m           \u001b[0;31m#broadcasting error\u001b[0m\u001b[0;34m\u001b[0m\u001b[0;34m\u001b[0m\u001b[0m\n\u001b[1;32m      2\u001b[0m \u001b[0mb\u001b[0m\u001b[0;34m=\u001b[0m\u001b[0mnp\u001b[0m\u001b[0;34m.\u001b[0m\u001b[0marray\u001b[0m\u001b[0;34m(\u001b[0m\u001b[0;34m[\u001b[0m\u001b[0;36m1\u001b[0m\u001b[0;34m,\u001b[0m\u001b[0;36m2\u001b[0m\u001b[0;34m,\u001b[0m\u001b[0;36m3\u001b[0m\u001b[0;34m]\u001b[0m\u001b[0;34m)\u001b[0m\u001b[0;34m\u001b[0m\u001b[0;34m\u001b[0m\u001b[0m\n\u001b[0;32m----> 3\u001b[0;31m \u001b[0mprint\u001b[0m\u001b[0;34m(\u001b[0m\u001b[0ma\u001b[0m\u001b[0;34m+\u001b[0m\u001b[0mb\u001b[0m\u001b[0;34m)\u001b[0m\u001b[0;34m\u001b[0m\u001b[0;34m\u001b[0m\u001b[0m\n\u001b[0m",
            "\u001b[0;31mValueError\u001b[0m: operands could not be broadcast together with shapes (4,) (3,) "
          ]
        }
      ]
    },
    {
      "cell_type": "code",
      "source": [
        "import numpy as np\n",
        "x=np.array([[1,2,3],[2,4,6]])      # 2X3\n",
        "y=np.array([[1],[2]])              # 2X1\n",
        "print(x+y)                         #max = 2X3"
      ],
      "metadata": {
        "colab": {
          "base_uri": "https://localhost:8080/"
        },
        "id": "UZsVmwZB0uCk",
        "outputId": "2b9edaf0-07fc-49e9-fa43-a1ce11500666"
      },
      "execution_count": null,
      "outputs": [
        {
          "output_type": "stream",
          "name": "stdout",
          "text": [
            "[[2 3 4]\n",
            " [4 6 8]]\n"
          ]
        }
      ]
    },
    {
      "cell_type": "markdown",
      "source": [
        "**INDEXING**"
      ],
      "metadata": {
        "id": "34-nl8nj1jhn"
      }
    },
    {
      "cell_type": "code",
      "source": [
        "#1D array\n",
        "x=np.array([1,2,3,4])\n",
        "print(x[2])\n",
        "print(x[-1])\n"
      ],
      "metadata": {
        "colab": {
          "base_uri": "https://localhost:8080/"
        },
        "id": "ZWDfYlbC1mtY",
        "outputId": "e6c13e73-e9a9-49ed-96b0-febcca3aadc2"
      },
      "execution_count": null,
      "outputs": [
        {
          "output_type": "stream",
          "name": "stdout",
          "text": [
            "3\n",
            "4\n"
          ]
        }
      ]
    },
    {
      "cell_type": "code",
      "source": [
        "#2D array\n",
        "x=np.array([[1,2,34,4],[3,4,5,7]])\n",
        "print(x.ndim)\n",
        "print(x[0,2])"
      ],
      "metadata": {
        "colab": {
          "base_uri": "https://localhost:8080/"
        },
        "id": "XVhkcMDd4Ap1",
        "outputId": "ecd3e1fb-9454-41d6-e05d-76b78662253c"
      },
      "execution_count": null,
      "outputs": [
        {
          "output_type": "stream",
          "name": "stdout",
          "text": [
            "2\n",
            "34\n"
          ]
        }
      ]
    },
    {
      "cell_type": "code",
      "source": [
        "#3D array\n",
        "x=np.array([[[1,2,3],\n",
        "             [3,4,5]],\n",
        "            [[3,5,6],\n",
        "            [4,5,7]]])\n",
        "print(x[0,1,1])"
      ],
      "metadata": {
        "colab": {
          "base_uri": "https://localhost:8080/"
        },
        "id": "hqAi8gmP4Mrs",
        "outputId": "fbaeac32-e79b-4352-b2db-234bcd185d54"
      },
      "execution_count": null,
      "outputs": [
        {
          "output_type": "stream",
          "name": "stdout",
          "text": [
            "4\n"
          ]
        }
      ]
    },
    {
      "cell_type": "code",
      "source": [
        "x=np.array([[[1,2],[3,4]]])\n",
        "print(x)\n",
        "print()\n",
        "print(x.ndim)\n",
        "print(x[0,1,0])"
      ],
      "metadata": {
        "colab": {
          "base_uri": "https://localhost:8080/"
        },
        "id": "FsBKKakh6QhY",
        "outputId": "376f70a4-7354-4142-8775-06a0abf19e94"
      },
      "execution_count": null,
      "outputs": [
        {
          "output_type": "stream",
          "name": "stdout",
          "text": [
            "[[[1 2]\n",
            "  [3 4]]]\n",
            "\n",
            "3\n",
            "3\n"
          ]
        }
      ]
    },
    {
      "cell_type": "markdown",
      "source": [
        "**SLICING**"
      ],
      "metadata": {
        "id": "YEg-atht5qiR"
      }
    },
    {
      "cell_type": "code",
      "source": [
        "#1D aray\n",
        "x=np.array([1,2,3,4,5,6])\n",
        "print(x[2:])"
      ],
      "metadata": {
        "colab": {
          "base_uri": "https://localhost:8080/"
        },
        "id": "acYIG0hL5viB",
        "outputId": "401d7df7-15eb-43fc-c7a4-8c0c074d7389"
      },
      "execution_count": null,
      "outputs": [
        {
          "output_type": "stream",
          "name": "stdout",
          "text": [
            "[3 4 5 6]\n"
          ]
        }
      ]
    },
    {
      "cell_type": "code",
      "source": [
        "#2D array\n",
        "x=np.array([[1,2,3,4],[3,5,6,7]])\n",
        "print(x[0,1:3])"
      ],
      "metadata": {
        "colab": {
          "base_uri": "https://localhost:8080/"
        },
        "id": "eZ_LuYJR88Jl",
        "outputId": "86118354-63d0-4bb3-88b6-dcf39fcad760"
      },
      "execution_count": null,
      "outputs": [
        {
          "output_type": "stream",
          "name": "stdout",
          "text": [
            "[2 3]\n"
          ]
        }
      ]
    },
    {
      "cell_type": "code",
      "source": [
        "#3D array\n",
        "x=np.array([[[1,2],[3,4]]])\n",
        "print(x[0,1,:])"
      ],
      "metadata": {
        "colab": {
          "base_uri": "https://localhost:8080/"
        },
        "id": "El5Lulet-SIB",
        "outputId": "759903e5-fd03-402d-e72b-57982bb9104d"
      },
      "execution_count": null,
      "outputs": [
        {
          "output_type": "stream",
          "name": "stdout",
          "text": [
            "[3 4]\n"
          ]
        }
      ]
    },
    {
      "cell_type": "markdown",
      "source": [
        "**ITERATION**"
      ],
      "metadata": {
        "id": "jnlYHLQs_DSI"
      }
    },
    {
      "cell_type": "code",
      "source": [
        "#1D array\n",
        "x=np.array([1,3,4,56,77,44])\n",
        "for i in x:\n",
        "  print(i)"
      ],
      "metadata": {
        "colab": {
          "base_uri": "https://localhost:8080/"
        },
        "id": "DLJHZeJ7_Gll",
        "outputId": "c0e22c05-8bb7-46fa-9e91-984de072d8e5"
      },
      "execution_count": null,
      "outputs": [
        {
          "output_type": "stream",
          "name": "stdout",
          "text": [
            "1\n",
            "3\n",
            "4\n",
            "56\n",
            "77\n",
            "44\n"
          ]
        }
      ]
    },
    {
      "cell_type": "code",
      "source": [
        "#2D\n",
        "x=np.array([[1,2,3,4],[3,4,5,6]])\n",
        "print(x)\n",
        "print()\n",
        "for i in x:\n",
        "  print(i)\n",
        "\n",
        "for i in x:\n",
        "  for j in i:\n",
        "    print(j)"
      ],
      "metadata": {
        "colab": {
          "base_uri": "https://localhost:8080/"
        },
        "id": "mg41ilY3_vqX",
        "outputId": "64c9e5a0-2144-4037-f4e3-0f9f45baf66e"
      },
      "execution_count": null,
      "outputs": [
        {
          "output_type": "stream",
          "name": "stdout",
          "text": [
            "[[1 2 3 4]\n",
            " [3 4 5 6]]\n",
            "\n",
            "[1 2 3 4]\n",
            "[3 4 5 6]\n",
            "1\n",
            "2\n",
            "3\n",
            "4\n",
            "3\n",
            "4\n",
            "5\n",
            "6\n"
          ]
        }
      ]
    },
    {
      "cell_type": "code",
      "source": [
        "#3D\n",
        "x=np.array([[[1,2,3],[3,3,4]]])\n",
        "for i in x:\n",
        "  for j in i:\n",
        "    for k in j:\n",
        "      print(k)"
      ],
      "metadata": {
        "colab": {
          "base_uri": "https://localhost:8080/"
        },
        "id": "ugvnLILoAQLR",
        "outputId": "78a3492a-f55c-493a-ab69-6709c2836317"
      },
      "execution_count": null,
      "outputs": [
        {
          "output_type": "stream",
          "name": "stdout",
          "text": [
            "1\n",
            "2\n",
            "3\n",
            "3\n",
            "3\n",
            "4\n"
          ]
        }
      ]
    },
    {
      "cell_type": "code",
      "source": [
        "#3D array iterating using nditer fun\n",
        "x=np.array([[[1,2,3],[3,3,4]]])\n",
        "for i in np.nditer(x):\n",
        "  print(i)"
      ],
      "metadata": {
        "colab": {
          "base_uri": "https://localhost:8080/"
        },
        "id": "JIg7wiE_DPsz",
        "outputId": "a34dce11-4219-44fd-9ea5-996831dfe091"
      },
      "execution_count": null,
      "outputs": [
        {
          "output_type": "stream",
          "name": "stdout",
          "text": [
            "1\n",
            "2\n",
            "3\n",
            "3\n",
            "3\n",
            "4\n"
          ]
        }
      ]
    },
    {
      "cell_type": "code",
      "source": [
        "x=np.array([[[1,2,3],[3,3,4]]])\n",
        "for i in np.nditer(x,flags=['buffered'],op_dtypes=[\"S\"]):     #change dtype\n",
        "  print(i)"
      ],
      "metadata": {
        "colab": {
          "base_uri": "https://localhost:8080/"
        },
        "id": "bo6GLGk2ESsB",
        "outputId": "a7d2e8c7-d717-4bd6-a2ae-c40b7141ed18"
      },
      "execution_count": null,
      "outputs": [
        {
          "output_type": "stream",
          "name": "stdout",
          "text": [
            "b'1'\n",
            "b'2'\n",
            "b'3'\n",
            "b'3'\n",
            "b'3'\n",
            "b'4'\n"
          ]
        }
      ]
    },
    {
      "cell_type": "code",
      "source": [
        "x=np.array([[[1,2,3],[3,3,4]]])\n",
        "for i,d in np.ndenumerate(x):             #indexing+ iterartion\n",
        "  print(i,d)"
      ],
      "metadata": {
        "colab": {
          "base_uri": "https://localhost:8080/"
        },
        "id": "2SzF1OkGFexy",
        "outputId": "cf287f9f-1ec8-4e33-c96f-4c80beb81fa2"
      },
      "execution_count": null,
      "outputs": [
        {
          "output_type": "stream",
          "name": "stdout",
          "text": [
            "(0, 0, 0) 1\n",
            "(0, 0, 1) 2\n",
            "(0, 0, 2) 3\n",
            "(0, 1, 0) 3\n",
            "(0, 1, 1) 3\n",
            "(0, 1, 2) 4\n"
          ]
        }
      ]
    },
    {
      "cell_type": "markdown",
      "source": [
        "**COPY vs VIEW**"
      ],
      "metadata": {
        "id": "503pRUXHGIQb"
      }
    },
    {
      "cell_type": "code",
      "source": [
        "x=np.array([1,1,2,4])\n",
        "y=x.copy()    #copy\n",
        "x[1]=7\n",
        "print(x)\n",
        "print(y)"
      ],
      "metadata": {
        "colab": {
          "base_uri": "https://localhost:8080/"
        },
        "id": "8B3CbpeQIe9f",
        "outputId": "5832c70d-8aad-4cb4-da28-91d94d45c441"
      },
      "execution_count": null,
      "outputs": [
        {
          "output_type": "stream",
          "name": "stdout",
          "text": [
            "[1 7 2 4]\n",
            "[1 1 2 4]\n"
          ]
        }
      ]
    },
    {
      "cell_type": "code",
      "source": [
        "x=np.array([1,1,2,4])\n",
        "y=x.view()    #view\n",
        "x[1]=8\n",
        "print(x)\n",
        "print(y)"
      ],
      "metadata": {
        "colab": {
          "base_uri": "https://localhost:8080/"
        },
        "id": "cN1noTEVIqiN",
        "outputId": "e9456640-b638-4868-9eb3-3e98bf3fcd39"
      },
      "execution_count": null,
      "outputs": [
        {
          "output_type": "stream",
          "name": "stdout",
          "text": [
            "[1 8 2 4]\n",
            "[1 8 2 4]\n"
          ]
        }
      ]
    },
    {
      "cell_type": "markdown",
      "source": [
        "**JOIN**"
      ],
      "metadata": {
        "id": "Z0SivGwlKpdL"
      }
    },
    {
      "cell_type": "code",
      "source": [
        "#1D array\n",
        "x=np.array([1,2,3,4])\n",
        "y=np.array([6,7,8,9])\n",
        "z=np.concatenate((x,y))\n",
        "print(z)"
      ],
      "metadata": {
        "colab": {
          "base_uri": "https://localhost:8080/"
        },
        "id": "sYCF9t9EKrJD",
        "outputId": "bee6e88b-b284-4d49-bcbc-fcc3d2dcd8a5"
      },
      "execution_count": null,
      "outputs": [
        {
          "output_type": "stream",
          "name": "stdout",
          "text": [
            "[1 2 3 4 6 7 8 9]\n"
          ]
        }
      ]
    },
    {
      "cell_type": "code",
      "source": [
        "#2D array\n",
        "x=np.array([[1,1,2,4,5,6],[3,5,7,7,8,9]])\n",
        "y=np.array([[14,6,8,9,9,6],[3,54,5,4,5,9]])\n",
        "print(x)\n",
        "print()\n",
        "print(y)\n",
        "print()\n",
        "z=np.concatenate((x,y),axis=0)\n",
        "a=np.concatenate((x,y),axis=1)\n",
        "print(z)\n",
        "print()\n",
        "print(a)\n"
      ],
      "metadata": {
        "colab": {
          "base_uri": "https://localhost:8080/"
        },
        "id": "VMCAwnQUNawL",
        "outputId": "5e8833d3-3868-4038-db99-7fcd0a54ed32"
      },
      "execution_count": null,
      "outputs": [
        {
          "output_type": "stream",
          "name": "stdout",
          "text": [
            "[[1 1 2 4 5 6]\n",
            " [3 5 7 7 8 9]]\n",
            "\n",
            "[[14  6  8  9  9  6]\n",
            " [ 3 54  5  4  5  9]]\n",
            "\n",
            "[[ 1  1  2  4  5  6]\n",
            " [ 3  5  7  7  8  9]\n",
            " [14  6  8  9  9  6]\n",
            " [ 3 54  5  4  5  9]]\n",
            "\n",
            "[[ 1  1  2  4  5  6 14  6  8  9  9  6]\n",
            " [ 3  5  7  7  8  9  3 54  5  4  5  9]]\n"
          ]
        }
      ]
    },
    {
      "cell_type": "code",
      "source": [
        "x=np.array([1,2,3,4,5])\n",
        "y=np.array([9,8,7,6,5])\n",
        "new=np.stack((x,y),axis=1)\n",
        "print(new)"
      ],
      "metadata": {
        "colab": {
          "base_uri": "https://localhost:8080/"
        },
        "id": "JnG-G-xEUgZT",
        "outputId": "e69d4348-1826-4782-fbf8-4c95608d7ea1"
      },
      "execution_count": null,
      "outputs": [
        {
          "output_type": "stream",
          "name": "stdout",
          "text": [
            "[[1 9]\n",
            " [2 8]\n",
            " [3 7]\n",
            " [4 6]\n",
            " [5 5]]\n"
          ]
        }
      ]
    },
    {
      "cell_type": "code",
      "source": [
        "x=np.array([1,2,3,4,5])\n",
        "y=np.array([9,8,7,6,5])\n",
        "new=np.stack((x,y),axis=0)\n",
        "print(new)"
      ],
      "metadata": {
        "colab": {
          "base_uri": "https://localhost:8080/"
        },
        "id": "p_8d2mkzWo8j",
        "outputId": "7366f111-4c1f-4ad9-82a9-43abf9676136"
      },
      "execution_count": null,
      "outputs": [
        {
          "output_type": "stream",
          "name": "stdout",
          "text": [
            "[[1 2 3 4 5]\n",
            " [9 8 7 6 5]]\n"
          ]
        }
      ]
    },
    {
      "cell_type": "code",
      "source": [
        "x=np.array([1,2,3,4,5])\n",
        "y=np.array([9,8,7,6,5])\n",
        "new=np.hstack((x,y))\n",
        "print(new)"
      ],
      "metadata": {
        "colab": {
          "base_uri": "https://localhost:8080/"
        },
        "id": "JInecd5mV9eq",
        "outputId": "82ef0785-020b-4546-9c4c-9cb3a41a9e13"
      },
      "execution_count": null,
      "outputs": [
        {
          "output_type": "stream",
          "name": "stdout",
          "text": [
            "[1 2 3 4 5 9 8 7 6 5]\n"
          ]
        }
      ]
    },
    {
      "cell_type": "code",
      "source": [
        "x=np.array([1,2,3,4,5])\n",
        "y=np.array([9,8,7,6,5])\n",
        "new=np.vstack((x,y))\n",
        "print(new)"
      ],
      "metadata": {
        "colab": {
          "base_uri": "https://localhost:8080/"
        },
        "id": "XiYunGdTWe4l",
        "outputId": "e7a0b88c-369b-4760-96e1-2592fa4bf34f"
      },
      "execution_count": null,
      "outputs": [
        {
          "output_type": "stream",
          "name": "stdout",
          "text": [
            "[[1 2 3 4 5]\n",
            " [9 8 7 6 5]]\n"
          ]
        }
      ]
    },
    {
      "cell_type": "code",
      "source": [
        "x=np.array([1,2,3,4,5])\n",
        "y=np.array([9,8,7,6,5])\n",
        "new=np.dstack((x,y))     #along height\n",
        "print(new)"
      ],
      "metadata": {
        "colab": {
          "base_uri": "https://localhost:8080/"
        },
        "id": "K1AFBlaqW8gD",
        "outputId": "3a6ec8d5-a12d-46f7-ef11-0922f1c85e19"
      },
      "execution_count": null,
      "outputs": [
        {
          "output_type": "stream",
          "name": "stdout",
          "text": [
            "[[[1 9]\n",
            "  [2 8]\n",
            "  [3 7]\n",
            "  [4 6]\n",
            "  [5 5]]]\n"
          ]
        }
      ]
    },
    {
      "cell_type": "markdown",
      "source": [
        "**SPLITTING**"
      ],
      "metadata": {
        "id": "ktlgWt81XiMM"
      }
    },
    {
      "cell_type": "code",
      "source": [
        "#1D array\n",
        "import numpy as np\n",
        "a=np.array([1,2,3,4,5,6])\n",
        "print(a)\n",
        "print()\n",
        "new=np.array_split(a,3)\n",
        "print(new)\n",
        "print(type(new))"
      ],
      "metadata": {
        "id": "scOwrzHPXkDN",
        "colab": {
          "base_uri": "https://localhost:8080/"
        },
        "outputId": "ae93429d-126c-4727-fc23-a7a669988e9b"
      },
      "execution_count": null,
      "outputs": [
        {
          "output_type": "stream",
          "name": "stdout",
          "text": [
            "[1 2 3 4 5 6]\n",
            "\n",
            "[array([1, 2]), array([3, 4]), array([5, 6])]\n",
            "<class 'list'>\n"
          ]
        }
      ]
    },
    {
      "cell_type": "code",
      "source": [
        "#2D array\n",
        "a=np.array([[1,2],[3,4],[5,6]])\n",
        "print(a)\n",
        "print()\n",
        "new=np.array_split(a,3)\n",
        "print(new)\n",
        "print(type(new))"
      ],
      "metadata": {
        "colab": {
          "base_uri": "https://localhost:8080/"
        },
        "id": "V_uQMavn7CE9",
        "outputId": "09b6c939-163d-4e35-a06a-7c9d62db131e"
      },
      "execution_count": null,
      "outputs": [
        {
          "output_type": "stream",
          "name": "stdout",
          "text": [
            "[[1 2]\n",
            " [3 4]\n",
            " [5 6]]\n",
            "\n",
            "[array([[1, 2]]), array([[3, 4]]), array([[5, 6]])]\n",
            "<class 'list'>\n"
          ]
        }
      ]
    },
    {
      "cell_type": "code",
      "source": [
        "#2D array\n",
        "a=np.array([[1,2],[3,4],[5,6]])\n",
        "print(a)\n",
        "print()\n",
        "new=np.array_split(a,3,axis=1)\n",
        "print(new)\n",
        "print(type(new))"
      ],
      "metadata": {
        "colab": {
          "base_uri": "https://localhost:8080/"
        },
        "id": "ygS9lm-F8N8M",
        "outputId": "5ec7986f-eb0e-4592-8775-4f301e260508"
      },
      "execution_count": null,
      "outputs": [
        {
          "output_type": "stream",
          "name": "stdout",
          "text": [
            "[[1 2]\n",
            " [3 4]\n",
            " [5 6]]\n",
            "\n",
            "[array([[1],\n",
            "       [3],\n",
            "       [5]]), array([[2],\n",
            "       [4],\n",
            "       [6]]), array([], shape=(3, 0), dtype=int64)]\n",
            "<class 'list'>\n"
          ]
        }
      ]
    },
    {
      "cell_type": "markdown",
      "source": [
        "**NUMPY ARRAYS FUNCTIONS**\n",
        "(search,sort,search sorted,filter)"
      ],
      "metadata": {
        "id": "vshd3rbt9uG_"
      }
    },
    {
      "cell_type": "markdown",
      "source": [
        "**SEARCH**"
      ],
      "metadata": {
        "id": "EtKf56oKAs8I"
      }
    },
    {
      "cell_type": "code",
      "source": [
        "a=np.array([1,2,3,4,5,4,2,3,2,32,2])\n",
        "x=np.where(a==2)                          #return index where 2 is present\n",
        "print(x)"
      ],
      "metadata": {
        "colab": {
          "base_uri": "https://localhost:8080/"
        },
        "id": "c5YFndxc99UA",
        "outputId": "224cb4e5-7215-4ad3-ac96-a70af479c599"
      },
      "execution_count": null,
      "outputs": [
        {
          "output_type": "stream",
          "name": "stdout",
          "text": [
            "(array([ 1,  6,  8, 10]),)\n"
          ]
        }
      ]
    },
    {
      "cell_type": "code",
      "source": [
        "a=np.array([1,2,4,6,22,3,5,65,7,8,9])\n",
        "x=np.where((a%2)==0)\n",
        "print(x)"
      ],
      "metadata": {
        "colab": {
          "base_uri": "https://localhost:8080/"
        },
        "id": "xTYQyszzAMTO",
        "outputId": "909de782-eaa0-41de-c167-a1e239c21b30"
      },
      "execution_count": null,
      "outputs": [
        {
          "output_type": "stream",
          "name": "stdout",
          "text": [
            "(array([1, 2, 3, 4, 9]),)\n"
          ]
        }
      ]
    },
    {
      "cell_type": "markdown",
      "source": [
        "**SEARCH SORTED ARRAY**"
      ],
      "metadata": {
        "id": "seF8GDZZAwPD"
      }
    },
    {
      "cell_type": "code",
      "source": [
        "#left to right\n",
        "a=np.array([1,2,3,4,6,7])\n",
        "# index     0,1,2,3,4,5\n",
        "x=np.searchsorted(a,5)\n",
        "print(x)"
      ],
      "metadata": {
        "colab": {
          "base_uri": "https://localhost:8080/"
        },
        "id": "qL1FPmFrAyvP",
        "outputId": "270e7085-f11a-456f-dc94-1d82dc25d551"
      },
      "execution_count": null,
      "outputs": [
        {
          "output_type": "stream",
          "name": "stdout",
          "text": [
            "4\n"
          ]
        }
      ]
    },
    {
      "cell_type": "code",
      "source": [
        "#right to left\n",
        "a=np.array([1,2,3,4,6])\n",
        "# index     0,1,2,3,4\n",
        "x=np.searchsorted(a,5,side=\"right\")\n",
        "print(x)"
      ],
      "metadata": {
        "colab": {
          "base_uri": "https://localhost:8080/"
        },
        "id": "rxx1uJuLDHnl",
        "outputId": "c8fe0040-f1df-4fbb-a241-43489de57a56"
      },
      "execution_count": null,
      "outputs": [
        {
          "output_type": "stream",
          "name": "stdout",
          "text": [
            "4\n"
          ]
        }
      ]
    },
    {
      "cell_type": "code",
      "source": [
        "a=np.array([1,2,3,4,7])\n",
        "# index     0,1,2,3,4\n",
        "x=np.searchsorted(a,[5,6])\n",
        "print(x)"
      ],
      "metadata": {
        "colab": {
          "base_uri": "https://localhost:8080/"
        },
        "id": "JFIp2YkwEIJU",
        "outputId": "2c18a1ba-8dff-4b3b-a238-c10848be63e5"
      },
      "execution_count": null,
      "outputs": [
        {
          "output_type": "stream",
          "name": "stdout",
          "text": [
            "[4 4]\n"
          ]
        }
      ]
    },
    {
      "cell_type": "markdown",
      "source": [
        "**SORT**"
      ],
      "metadata": {
        "id": "JLaJh0ObEXR-"
      }
    },
    {
      "cell_type": "code",
      "source": [
        "a=np.array([7,4,5,2,8,4,6,1])\n",
        "x=np.sort(a)\n",
        "print(x)"
      ],
      "metadata": {
        "colab": {
          "base_uri": "https://localhost:8080/"
        },
        "id": "70Ye4ECcEYzp",
        "outputId": "9947a4e4-9efd-4a2b-b95e-606b908fcb98"
      },
      "execution_count": null,
      "outputs": [
        {
          "output_type": "stream",
          "name": "stdout",
          "text": [
            "[1 2 4 4 5 6 7 8]\n"
          ]
        }
      ]
    },
    {
      "cell_type": "code",
      "source": [
        "a=np.array(['a','h','b'])\n",
        "print(np.sort(a))"
      ],
      "metadata": {
        "colab": {
          "base_uri": "https://localhost:8080/"
        },
        "id": "wVEdkj19EvJs",
        "outputId": "1d8fad70-1104-4602-da4f-0ce541160c9f"
      },
      "execution_count": null,
      "outputs": [
        {
          "output_type": "stream",
          "name": "stdout",
          "text": [
            "['a' 'b' 'h']\n"
          ]
        }
      ]
    },
    {
      "cell_type": "code",
      "source": [
        "#2D array\n",
        "x=np.array([[1,4,2],[6,4,7],[9,3,12]])\n",
        "print(x)\n",
        "print(np.sort(x))"
      ],
      "metadata": {
        "colab": {
          "base_uri": "https://localhost:8080/"
        },
        "id": "faDyQ1QnFKPV",
        "outputId": "ca470901-a308-48c1-f12f-a00926a6717c"
      },
      "execution_count": null,
      "outputs": [
        {
          "output_type": "stream",
          "name": "stdout",
          "text": [
            "[[ 1  4  2]\n",
            " [ 6  4  7]\n",
            " [ 9  3 12]]\n",
            "[[ 1  2  4]\n",
            " [ 4  6  7]\n",
            " [ 3  9 12]]\n"
          ]
        }
      ]
    },
    {
      "cell_type": "code",
      "source": [
        "#2D array\n",
        "x=np.array([[1,4,2],[6,4,7],[9,3,12]])\n",
        "print(x)\n",
        "print(np.sort(x,axis=0))"
      ],
      "metadata": {
        "colab": {
          "base_uri": "https://localhost:8080/"
        },
        "id": "z2Xnjfh0HEzJ",
        "outputId": "1db7f6f7-6fe4-4d0f-bf32-523f125ba7ed"
      },
      "execution_count": null,
      "outputs": [
        {
          "output_type": "stream",
          "name": "stdout",
          "text": [
            "[[ 1  4  2]\n",
            " [ 6  4  7]\n",
            " [ 9  3 12]]\n",
            "[[ 1  3  2]\n",
            " [ 6  4  7]\n",
            " [ 9  4 12]]\n"
          ]
        }
      ]
    },
    {
      "cell_type": "markdown",
      "source": [
        "**FILTER ARRAY**"
      ],
      "metadata": {
        "id": "UrgrMiTzKb1e"
      }
    },
    {
      "cell_type": "code",
      "source": [
        "a=np.array([\"a\",\"r\",\"p\",\"i\",\"t\"])\n",
        "f=[True,False,True,False,False]\n",
        "new=a[f]\n",
        "print(new)\n",
        "print(type(new))"
      ],
      "metadata": {
        "colab": {
          "base_uri": "https://localhost:8080/"
        },
        "id": "9i0tazyfKbCW",
        "outputId": "a3ee23db-ad2c-48b9-ada3-dc90f46d04b8"
      },
      "execution_count": null,
      "outputs": [
        {
          "output_type": "stream",
          "name": "stdout",
          "text": [
            "['a' 'p']\n",
            "<class 'numpy.ndarray'>\n"
          ]
        }
      ]
    },
    {
      "cell_type": "markdown",
      "source": [
        "**ARITHMETIC FUNCTIONS**\n",
        "**(shuffle,unique,resize,flatten,ravel)**"
      ],
      "metadata": {
        "id": "7F5-8Zl6MC7e"
      }
    },
    {
      "cell_type": "markdown",
      "source": [
        "shuffle"
      ],
      "metadata": {
        "id": "j1g3Tjp_PGhf"
      }
    },
    {
      "cell_type": "code",
      "source": [
        "#shuffle\n",
        "x=np.array([1,2,5,3,2])\n",
        "np.random.shuffle(x)\n",
        "print(x)"
      ],
      "metadata": {
        "colab": {
          "base_uri": "https://localhost:8080/"
        },
        "id": "cKm8g_9EMtAh",
        "outputId": "4eac4b34-a7f4-485d-9130-4f7c1b66d7f8"
      },
      "execution_count": null,
      "outputs": [
        {
          "output_type": "stream",
          "name": "stdout",
          "text": [
            "[2 1 2 5 3]\n"
          ]
        }
      ]
    },
    {
      "cell_type": "markdown",
      "source": [
        "unique"
      ],
      "metadata": {
        "id": "oQO-7r4_PIuu"
      }
    },
    {
      "cell_type": "code",
      "source": [
        "#unique.....remove duplicacy\n",
        "x=np.array([2,4,2,5,3,7,4,7,3,2])\n",
        "a=np.unique(x)\n",
        "print(a)"
      ],
      "metadata": {
        "colab": {
          "base_uri": "https://localhost:8080/"
        },
        "id": "jwp2f15dMqhx",
        "outputId": "f6f81ba0-8105-46d1-c46e-f968c4b78474"
      },
      "execution_count": null,
      "outputs": [
        {
          "output_type": "stream",
          "name": "stdout",
          "text": [
            "[2 3 4 5 7]\n"
          ]
        }
      ]
    },
    {
      "cell_type": "code",
      "source": [
        "x=np.array([2,4,2,5,3,7,4,7,3,2])\n",
        "a=np.unique(x,return_index=True)\n",
        "print(a)"
      ],
      "metadata": {
        "colab": {
          "base_uri": "https://localhost:8080/"
        },
        "id": "5WhpI5G1Mlca",
        "outputId": "ffb7b16f-0427-4ee5-cdaf-2a42b80dbb68"
      },
      "execution_count": null,
      "outputs": [
        {
          "output_type": "stream",
          "name": "stdout",
          "text": [
            "(array([2, 3, 4, 5, 7]), array([0, 4, 1, 3, 5]))\n"
          ]
        }
      ]
    },
    {
      "cell_type": "code",
      "source": [
        "x=np.array([2,4,2,5,3,7,4,7,3,2])\n",
        "a=np.unique(x,return_index=True,return_counts=True)\n",
        "print(a)"
      ],
      "metadata": {
        "colab": {
          "base_uri": "https://localhost:8080/"
        },
        "id": "3VvJ-GjbPSeA",
        "outputId": "764ce6dd-b547-4d01-be9c-150faefa0512"
      },
      "execution_count": null,
      "outputs": [
        {
          "output_type": "stream",
          "name": "stdout",
          "text": [
            "(array([2, 3, 4, 5, 7]), array([0, 4, 1, 3, 5]), array([3, 2, 2, 1, 2]))\n"
          ]
        }
      ]
    },
    {
      "cell_type": "markdown",
      "source": [
        "**reshape**:Does not alter the original data.....\n",
        "Requires that the number of elements remains constant......\n",
        "Returns a new array.**(copy)**\n",
        "\n",
        "**resize**:Can alter the original data (in-place if used as a method).....\n",
        "Allows the total number of elements to change......\n",
        "If the new size is larger, fills with repeated data; if smaller, truncates data**.(view)**"
      ],
      "metadata": {
        "id": "cak_b-6DRjVF"
      }
    },
    {
      "cell_type": "markdown",
      "source": [
        "resize"
      ],
      "metadata": {
        "id": "R4CiZtJGPnVl"
      }
    },
    {
      "cell_type": "code",
      "source": [
        "#resize...change size of an array\n",
        "x=np.array([1,2,3,4,5,6])\n",
        "a=np.resize(x,(2,3))\n",
        "print(a)"
      ],
      "metadata": {
        "colab": {
          "base_uri": "https://localhost:8080/"
        },
        "id": "a5DqOs9rPo9i",
        "outputId": "547bd3cd-e9bb-45e9-e3be-20b0ba70deb8"
      },
      "execution_count": null,
      "outputs": [
        {
          "output_type": "stream",
          "name": "stdout",
          "text": [
            "[[1 2 3]\n",
            " [4 5 6]]\n"
          ]
        }
      ]
    },
    {
      "cell_type": "markdown",
      "source": [
        "**Differencesb/w flatten & ravel:**\n",
        "\n",
        "**Memory Allocation:**\n",
        "flatten: returns a new array, thus always allocates new memory.\n",
        "ravel: Returns a view of the original array if possible, otherwise, returns a copy.\n",
        "\n",
        "**Return Type:**\n",
        "flatten: Always returns a new copy of the array.\n",
        "ravel: Returns a view if possible; otherwise, returns a copy.\n",
        "\n",
        "**Use Case:**\n",
        "Use flatten when you need a new, independent one-dimensional array.\n",
        "Use ravel when you prefer a view for efficiency, but are okay with a copy if necessary."
      ],
      "metadata": {
        "id": "VM7YFWBvQZVj"
      }
    },
    {
      "cell_type": "markdown",
      "source": [
        "FLATTEN"
      ],
      "metadata": {
        "id": "_u0Wch_dS7GV"
      }
    },
    {
      "cell_type": "code",
      "source": [
        "#flatten.....convert to 1D array\n",
        "x=np.array([1,2,3,4,5,6])\n",
        "a=np.resize(x,(2,3))\n",
        "print(a)\n",
        "print()\n",
        "b=a.flatten()           #row wise(by default =\"C\")\n",
        "print(b)\n"
      ],
      "metadata": {
        "colab": {
          "base_uri": "https://localhost:8080/"
        },
        "id": "rJF9vzgfS82E",
        "outputId": "9267666b-fe63-44e4-80ad-235d033e0b6d"
      },
      "execution_count": null,
      "outputs": [
        {
          "output_type": "stream",
          "name": "stdout",
          "text": [
            "[[1 2 3]\n",
            " [4 5 6]]\n",
            "\n",
            "[1 2 3 4 5 6]\n"
          ]
        }
      ]
    },
    {
      "cell_type": "code",
      "source": [
        "x=np.array([1,2,3,4,5,6])\n",
        "a=np.resize(x,(2,3))\n",
        "print(a)\n",
        "print()\n",
        "b=a.flatten(order=\"F\")      #col wise\n",
        "print(b)"
      ],
      "metadata": {
        "colab": {
          "base_uri": "https://localhost:8080/"
        },
        "id": "bboss4IwT5_V",
        "outputId": "f4f43289-d445-493f-b0ca-3e3e0e0952d5"
      },
      "execution_count": null,
      "outputs": [
        {
          "output_type": "stream",
          "name": "stdout",
          "text": [
            "[[1 2 3]\n",
            " [4 5 6]]\n",
            "\n",
            "[1 4 2 5 3 6]\n"
          ]
        }
      ]
    },
    {
      "cell_type": "markdown",
      "source": [
        "Ravel"
      ],
      "metadata": {
        "id": "OXOH-jenUTUo"
      }
    },
    {
      "cell_type": "code",
      "source": [
        "#ravel also convert array to 1D\n",
        "x=np.array([1,2,3,4,5,6])\n",
        "a=np.resize(x,(2,3))\n",
        "print(a)\n",
        "print()\n",
        "b=np.ravel(a,order=\"F\")      #col wise\n",
        "print(b)"
      ],
      "metadata": {
        "colab": {
          "base_uri": "https://localhost:8080/"
        },
        "id": "ZEM_hwdCUVYd",
        "outputId": "280a880c-dc6c-4341-d833-1ef23f536d05"
      },
      "execution_count": null,
      "outputs": [
        {
          "output_type": "stream",
          "name": "stdout",
          "text": [
            "[[1 2 3]\n",
            " [4 5 6]]\n",
            "\n",
            "[1 4 2 5 3 6]\n"
          ]
        }
      ]
    },
    {
      "cell_type": "markdown",
      "source": [
        "**insert**"
      ],
      "metadata": {
        "id": "g1n0Dce0WNvD"
      }
    },
    {
      "cell_type": "code",
      "source": [
        "a=np.array([1,2,3,4,5])\n",
        "x=np.insert(a,1,69)       # arr,pos,no\n",
        "print(x)"
      ],
      "metadata": {
        "colab": {
          "base_uri": "https://localhost:8080/"
        },
        "id": "1_Ii_GWkWgv-",
        "outputId": "2583c5fa-1007-40ff-980a-efe911cf66e2"
      },
      "execution_count": null,
      "outputs": [
        {
          "output_type": "stream",
          "name": "stdout",
          "text": [
            "[ 1 69  2  3  4  5]\n"
          ]
        }
      ]
    },
    {
      "cell_type": "code",
      "source": [
        "a=np.array([1,2,3,4,5])\n",
        "x=np.insert(a,(1,3),69)       # arr,pos,no\n",
        "print(x)"
      ],
      "metadata": {
        "colab": {
          "base_uri": "https://localhost:8080/"
        },
        "id": "prvBjQoWWxSq",
        "outputId": "619047a5-53f7-4c40-dc3b-cc7fd7466b38"
      },
      "execution_count": null,
      "outputs": [
        {
          "output_type": "stream",
          "name": "stdout",
          "text": [
            "[ 1 69  2  3 69  4  5]\n"
          ]
        }
      ]
    },
    {
      "cell_type": "code",
      "source": [
        "import numpy as np\n",
        "a=np.array([1,2,3,4,5])\n",
        "x=np.insert(a,(1,3),4.5)       # convert float to int\n",
        "print(x)"
      ],
      "metadata": {
        "colab": {
          "base_uri": "https://localhost:8080/"
        },
        "id": "DNrFb-7Z1KvW",
        "outputId": "510a033c-e27a-4507-c59a-f43f5672af87"
      },
      "execution_count": null,
      "outputs": [
        {
          "output_type": "stream",
          "name": "stdout",
          "text": [
            "[1 4 2 3 4 4 5]\n"
          ]
        }
      ]
    },
    {
      "cell_type": "code",
      "source": [
        "#2D array\n",
        "a=np.array([[1,2,3],[4,5,6]])\n",
        "x=np.insert(a,2,17,axis=0)       #arr,pos,no,axis\n",
        "print(x)"
      ],
      "metadata": {
        "colab": {
          "base_uri": "https://localhost:8080/"
        },
        "id": "uA-yPVvx2YN_",
        "outputId": "f3904a32-37e7-442b-d0da-a1ba9375fe26"
      },
      "execution_count": null,
      "outputs": [
        {
          "output_type": "stream",
          "name": "stdout",
          "text": [
            "[[ 1  2  3]\n",
            " [ 4  5  6]\n",
            " [17 17 17]]\n"
          ]
        }
      ]
    },
    {
      "cell_type": "code",
      "source": [
        "#2D array\n",
        "a=np.array([[1,2,3],[4,5,6]])\n",
        "x=np.insert(a,2,17,axis=1)       #arr,pos,no,axis\n",
        "print(x)"
      ],
      "metadata": {
        "colab": {
          "base_uri": "https://localhost:8080/"
        },
        "id": "LFX0D_8a2tsc",
        "outputId": "7770bf72-ef26-4c42-bc4a-307599a9fc00"
      },
      "execution_count": null,
      "outputs": [
        {
          "output_type": "stream",
          "name": "stdout",
          "text": [
            "[[ 1  2 17  3]\n",
            " [ 4  5 17  6]]\n"
          ]
        }
      ]
    },
    {
      "cell_type": "code",
      "source": [
        "#2D array\n",
        "a=np.array([[1,2,3],[4,5,6]])\n",
        "x=np.insert(a,2,17)       #arr,pos,no\n",
        "print(x)"
      ],
      "metadata": {
        "colab": {
          "base_uri": "https://localhost:8080/"
        },
        "id": "BQ0YvJaI2xUw",
        "outputId": "c67b6792-0710-4938-8ca5-3f994d63bcbf"
      },
      "execution_count": null,
      "outputs": [
        {
          "output_type": "stream",
          "name": "stdout",
          "text": [
            "[ 1  2 17  3  4  5  6]\n"
          ]
        }
      ]
    },
    {
      "cell_type": "code",
      "source": [
        "#2D array\n",
        "a=np.array([[1,2,3],[4,5,6]])\n",
        "x=np.insert(a,2,[22,23,24],axis=0)       #arr,pos,no,axis\n",
        "print(x)"
      ],
      "metadata": {
        "colab": {
          "base_uri": "https://localhost:8080/"
        },
        "id": "7RH68bQL3Lco",
        "outputId": "8fdc0fbd-eb4c-43ff-bd40-40c9e8b154a5"
      },
      "execution_count": null,
      "outputs": [
        {
          "output_type": "stream",
          "name": "stdout",
          "text": [
            "[[ 1  2  3]\n",
            " [ 4  5  6]\n",
            " [22 23 24]]\n"
          ]
        }
      ]
    },
    {
      "cell_type": "code",
      "source": [
        "#2D array\n",
        "a=np.array([[1,2,3],[4,5,6]])\n",
        "x=np.insert(a,2,[22,23],axis=1)       #arr,pos,no,axis\n",
        "print(x)"
      ],
      "metadata": {
        "colab": {
          "base_uri": "https://localhost:8080/"
        },
        "id": "dO1qgCg73Wno",
        "outputId": "447f4156-95d1-4554-94ab-5f8d48ccacd8"
      },
      "execution_count": null,
      "outputs": [
        {
          "output_type": "stream",
          "name": "stdout",
          "text": [
            "[[ 1  2 22  3]\n",
            " [ 4  5 23  6]]\n"
          ]
        }
      ]
    },
    {
      "cell_type": "code",
      "source": [
        "#2D array\n",
        "a=np.array([[1,2,3],[4,5,6]])\n",
        "x=np.insert(a,2,[17,18])       #arr,pos,no,axis\n",
        "print(x)"
      ],
      "metadata": {
        "colab": {
          "base_uri": "https://localhost:8080/"
        },
        "id": "9eS_vhaU3h7l",
        "outputId": "709d4d69-d45b-4705-9a03-179ce6aaa66d"
      },
      "execution_count": null,
      "outputs": [
        {
          "output_type": "stream",
          "name": "stdout",
          "text": [
            "[ 1  2 17 18  3  4  5  6]\n"
          ]
        }
      ]
    },
    {
      "cell_type": "markdown",
      "source": [
        "append"
      ],
      "metadata": {
        "id": "swgFTl4v4F9b"
      }
    },
    {
      "cell_type": "code",
      "source": [
        "x=np.array([1,2,3,4,5])\n",
        "y=np.append(x,4)              #arr,no\n",
        "print(y)"
      ],
      "metadata": {
        "colab": {
          "base_uri": "https://localhost:8080/"
        },
        "id": "fsxA6Onr4G6j",
        "outputId": "db0795b2-0a3e-4c25-eb7f-8d8fb1e74307"
      },
      "execution_count": null,
      "outputs": [
        {
          "output_type": "stream",
          "name": "stdout",
          "text": [
            "[1 2 3 4 5 4]\n"
          ]
        }
      ]
    },
    {
      "cell_type": "code",
      "source": [
        "#2d array\n",
        "x=np.array([[1,2,3],[4,5,6]])\n",
        "y=np.append(x,[[6,7,8]],axis=0)\n",
        "print(y)"
      ],
      "metadata": {
        "colab": {
          "base_uri": "https://localhost:8080/"
        },
        "id": "g_nkQ0XR4RVf",
        "outputId": "3ad24942-d026-4ae8-b887-bcaf4defde24"
      },
      "execution_count": null,
      "outputs": [
        {
          "output_type": "stream",
          "name": "stdout",
          "text": [
            "[[1 2 3]\n",
            " [4 5 6]\n",
            " [6 7 8]]\n"
          ]
        }
      ]
    },
    {
      "cell_type": "code",
      "source": [
        "#2d array\n",
        "x=np.array([[1,2,3],[4,5,6]])\n",
        "y=np.append(x,[[6],[8]],axis=1)\n",
        "print(y)"
      ],
      "metadata": {
        "colab": {
          "base_uri": "https://localhost:8080/"
        },
        "id": "lQyUQNEb4oy_",
        "outputId": "83dbc0fe-3f81-49fd-f29b-723cb3691b9e"
      },
      "execution_count": null,
      "outputs": [
        {
          "output_type": "stream",
          "name": "stdout",
          "text": [
            "[[1 2 3 6]\n",
            " [4 5 6 8]]\n"
          ]
        }
      ]
    },
    {
      "cell_type": "markdown",
      "source": [
        "delete"
      ],
      "metadata": {
        "id": "x3GtUrmR5xa8"
      }
    },
    {
      "cell_type": "code",
      "source": [
        "x=np.array([4,2,25,3,34,4])\n",
        "y=np.delete(x,4)           #arr,index\n",
        "print(y)"
      ],
      "metadata": {
        "colab": {
          "base_uri": "https://localhost:8080/"
        },
        "id": "YUPl_Njk5yx7",
        "outputId": "53f9bddf-9b74-46d1-e8a2-43ad2bae28e9"
      },
      "execution_count": null,
      "outputs": [
        {
          "output_type": "stream",
          "name": "stdout",
          "text": [
            "[ 4  2 25  3  4]\n"
          ]
        }
      ]
    },
    {
      "cell_type": "markdown",
      "source": [
        "**MATRIX IN NUMPY**"
      ],
      "metadata": {
        "id": "r62lCeH567b-"
      }
    },
    {
      "cell_type": "code",
      "source": [
        "#creating numpy matrix\n",
        "x=np.matrix([[1,2,3],[4,5,6]])\n",
        "print(x)\n",
        "print(type(x))"
      ],
      "metadata": {
        "colab": {
          "base_uri": "https://localhost:8080/"
        },
        "id": "BA8pypcn7DPc",
        "outputId": "6560aae5-3077-495b-c914-63b543854826"
      },
      "execution_count": null,
      "outputs": [
        {
          "output_type": "stream",
          "name": "stdout",
          "text": [
            "[[1 2 3]\n",
            " [4 5 6]]\n",
            "<class 'numpy.matrix'>\n"
          ]
        }
      ]
    },
    {
      "cell_type": "code",
      "source": [
        "#creating numpy array\n",
        "x=np.array([[1,2,3],[4,5,6]])\n",
        "print(x)\n",
        "print(type(x))\n"
      ],
      "metadata": {
        "colab": {
          "base_uri": "https://localhost:8080/"
        },
        "id": "8iMKJ-RU81hl",
        "outputId": "aae7fb4c-8b88-4852-b3c6-645bfb013f42"
      },
      "execution_count": null,
      "outputs": [
        {
          "output_type": "stream",
          "name": "stdout",
          "text": [
            "[[1 2 3]\n",
            " [4 5 6]]\n",
            "<class 'numpy.ndarray'>\n"
          ]
        }
      ]
    },
    {
      "cell_type": "markdown",
      "source": [
        "arithmetic o/p on matrix"
      ],
      "metadata": {
        "id": "hb_e26KT-LKI"
      }
    },
    {
      "cell_type": "code",
      "source": [
        "a=np.matrix([[1,2],[3,5]])\n",
        "b=np.matrix(np.ones((2,2)))\n",
        "print(\"a=\",a)\n",
        "print()\n",
        "print(\"b=\",b)\n",
        "print()\n",
        "print(a+b)               #add\n",
        "print()\n",
        "print(a*b)               #mul\n",
        "print()\n",
        "print(a.dot(b))          #mul"
      ],
      "metadata": {
        "colab": {
          "base_uri": "https://localhost:8080/"
        },
        "id": "xkSamC09-Pjn",
        "outputId": "a497310c-3ef5-4061-92b0-afc0f2ff1eb1"
      },
      "execution_count": null,
      "outputs": [
        {
          "output_type": "stream",
          "name": "stdout",
          "text": [
            "a= [[1 2]\n",
            " [3 5]]\n",
            "\n",
            "b= [[1. 1.]\n",
            " [1. 1.]]\n",
            "\n",
            "[[2. 3.]\n",
            " [4. 6.]]\n",
            "\n",
            "[[3. 3.]\n",
            " [8. 8.]]\n",
            "\n",
            "[[3. 3.]\n",
            " [8. 8.]]\n"
          ]
        }
      ]
    },
    {
      "cell_type": "code",
      "source": [
        "#arithmetic o/p on array\n",
        "a=np.array([[1,2],[3,5]])\n",
        "b=np.array(np.ones((2,2)))\n",
        "print(\"a=\",a)\n",
        "print()\n",
        "print(\"b=\",b)\n",
        "print()\n",
        "print(a+b)               #add\n",
        "print()\n",
        "print(a*b)               #mul\n",
        "\n"
      ],
      "metadata": {
        "colab": {
          "base_uri": "https://localhost:8080/"
        },
        "id": "zu9A4rMWF2Px",
        "outputId": "c0700b8a-b00b-495e-9ae7-c112da9fae95"
      },
      "execution_count": null,
      "outputs": [
        {
          "output_type": "stream",
          "name": "stdout",
          "text": [
            "a= [[1 2]\n",
            " [3 5]]\n",
            "\n",
            "b= [[1. 1.]\n",
            " [1. 1.]]\n",
            "\n",
            "[[2. 3.]\n",
            " [4. 6.]]\n",
            "\n",
            "[[1. 2.]\n",
            " [3. 5.]]\n"
          ]
        }
      ]
    },
    {
      "cell_type": "markdown",
      "source": [
        "**# matrix fun in numpy**"
      ],
      "metadata": {
        "id": "_2JH-DCZGff3"
      }
    },
    {
      "cell_type": "markdown",
      "source": [
        "transpose"
      ],
      "metadata": {
        "id": "HDfcgbTGGuuK"
      }
    },
    {
      "cell_type": "code",
      "source": [
        "x=np.matrix([[1,2,3],[4,56,8]])\n",
        "print(x)\n",
        "print()\n",
        "y=np.transpose(x)     #transpose\n",
        "print(y)\n",
        "print()\n",
        "z=x.T                 #transpose\n",
        "print(z)"
      ],
      "metadata": {
        "colab": {
          "base_uri": "https://localhost:8080/"
        },
        "id": "2AWQJ05iGrtY",
        "outputId": "250a6783-0e2b-4a0a-a3d2-20e45da3561d"
      },
      "execution_count": null,
      "outputs": [
        {
          "output_type": "stream",
          "name": "stdout",
          "text": [
            "[[ 1  2  3]\n",
            " [ 4 56  8]]\n",
            "\n",
            "[[ 1  4]\n",
            " [ 2 56]\n",
            " [ 3  8]]\n",
            "\n",
            "[[ 1  4]\n",
            " [ 2 56]\n",
            " [ 3  8]]\n"
          ]
        }
      ]
    },
    {
      "cell_type": "markdown",
      "source": [
        "**swapaxes**"
      ],
      "metadata": {
        "id": "U5YEdFxjIJ4i"
      }
    },
    {
      "cell_type": "code",
      "source": [
        "#swapaxes........convert row to col & vice versa\n",
        "x=np.matrix([[1,2,3],[4,5,6]])\n",
        "print(x)\n",
        "print()\n",
        "y=np.swapaxes(x,0,1)\n",
        "print(y)"
      ],
      "metadata": {
        "colab": {
          "base_uri": "https://localhost:8080/"
        },
        "id": "UeAe1cy9IOlD",
        "outputId": "9a9d5a47-4d84-421f-bc87-4f2f90c801fb"
      },
      "execution_count": null,
      "outputs": [
        {
          "output_type": "stream",
          "name": "stdout",
          "text": [
            "[[1 2 3]\n",
            " [4 5 6]]\n",
            "\n",
            "[[1 4]\n",
            " [2 5]\n",
            " [3 6]]\n"
          ]
        }
      ]
    },
    {
      "cell_type": "markdown",
      "source": [
        "inverse"
      ],
      "metadata": {
        "id": "84rmKp2-JKJo"
      }
    },
    {
      "cell_type": "code",
      "source": [
        "x=np.matrix([[1,2],[4,5]])\n",
        "print(x)\n",
        "print()\n",
        "y=np.linalg.inv(x)        #inverse\n",
        "print(y)\n"
      ],
      "metadata": {
        "colab": {
          "base_uri": "https://localhost:8080/"
        },
        "id": "FvCPX2DKJLfm",
        "outputId": "1a8f2297-a7b6-40f2-e0b7-31c417e19d22"
      },
      "execution_count": null,
      "outputs": [
        {
          "output_type": "stream",
          "name": "stdout",
          "text": [
            "[[1 2]\n",
            " [4 5]]\n",
            "\n",
            "[[-1.66666667  0.66666667]\n",
            " [ 1.33333333 -0.33333333]]\n"
          ]
        }
      ]
    },
    {
      "cell_type": "markdown",
      "source": [
        "power"
      ],
      "metadata": {
        "id": "rtclc0-xKADb"
      }
    },
    {
      "cell_type": "code",
      "source": [
        "x=np.matrix([[1,2],[4,5]])\n",
        "print(x)\n",
        "print()\n",
        "y=np.linalg.matrix_power(x,2)        #arr,n.....here n>0.....so pwr(mul)\n",
        "print(y)"
      ],
      "metadata": {
        "colab": {
          "base_uri": "https://localhost:8080/"
        },
        "id": "GT11_zz9KBXH",
        "outputId": "08f1ba8f-329c-49ad-c5b8-539fcb64128b"
      },
      "execution_count": null,
      "outputs": [
        {
          "output_type": "stream",
          "name": "stdout",
          "text": [
            "[[1 2]\n",
            " [4 5]]\n",
            "\n",
            "[[ 9 12]\n",
            " [24 33]]\n"
          ]
        }
      ]
    },
    {
      "cell_type": "code",
      "source": [
        "x=np.matrix([[1,2],[4,5]])\n",
        "print(x)\n",
        "print()\n",
        "y=np.linalg.matrix_power(x,0)        #arr,n.....here n=0.....so identity matrix\n",
        "print(y)"
      ],
      "metadata": {
        "colab": {
          "base_uri": "https://localhost:8080/"
        },
        "id": "pLrXyCO5RJ6w",
        "outputId": "da28b7a7-0045-46bb-d6a4-6604d0aa3ab3"
      },
      "execution_count": null,
      "outputs": [
        {
          "output_type": "stream",
          "name": "stdout",
          "text": [
            "[[1 2]\n",
            " [4 5]]\n",
            "\n",
            "[[1 0]\n",
            " [0 1]]\n"
          ]
        }
      ]
    },
    {
      "cell_type": "code",
      "source": [
        "x=np.matrix([[1,2],[4,5]])\n",
        "print(x)\n",
        "print()\n",
        "y=np.linalg.matrix_power(x,-2)        #arr,n.....here n<0.....so inverse\n",
        "print(y)"
      ],
      "metadata": {
        "colab": {
          "base_uri": "https://localhost:8080/"
        },
        "id": "LQ1hP4DKRgEZ",
        "outputId": "ceae6bb3-9d51-433e-d65c-1e9c4b0fd4dc"
      },
      "execution_count": null,
      "outputs": [
        {
          "output_type": "stream",
          "name": "stdout",
          "text": [
            "[[1 2]\n",
            " [4 5]]\n",
            "\n",
            "[[ 3.66666667 -1.33333333]\n",
            " [-2.66666667  1.        ]]\n"
          ]
        }
      ]
    },
    {
      "cell_type": "markdown",
      "source": [
        "determinant"
      ],
      "metadata": {
        "id": "04EyBUpeRxKk"
      }
    },
    {
      "cell_type": "code",
      "source": [
        "x=np.matrix([[1,2],[3,4]])\n",
        "print(x)\n",
        "print()\n",
        "y=np.linalg.det(x)\n",
        "print(y)"
      ],
      "metadata": {
        "colab": {
          "base_uri": "https://localhost:8080/"
        },
        "id": "zlUj-4TBRymS",
        "outputId": "3b99b653-b302-44a4-982a-4f475eeda5d4"
      },
      "execution_count": null,
      "outputs": [
        {
          "output_type": "stream",
          "name": "stdout",
          "text": [
            "[[1 2]\n",
            " [3 4]]\n",
            "\n",
            "-2.0000000000000004\n"
          ]
        }
      ]
    },
    {
      "cell_type": "markdown",
      "source": [
        "**classwork(training)**"
      ],
      "metadata": {
        "id": "CaPEB0iqzEcI"
      }
    },
    {
      "cell_type": "code",
      "source": [
        "import numpy as np\n",
        "a=np.array([1,2,3,4])\n",
        "a[2]=10.6      #truncate float value & convert it to int\n",
        "print(a)"
      ],
      "metadata": {
        "colab": {
          "base_uri": "https://localhost:8080/"
        },
        "id": "R-Pv02LIzITa",
        "outputId": "6069478c-db92-4531-bd96-0218c53bf52d"
      },
      "execution_count": null,
      "outputs": [
        {
          "output_type": "stream",
          "name": "stdout",
          "text": [
            "[ 1  2 10  4]\n"
          ]
        }
      ]
    },
    {
      "cell_type": "code",
      "source": [
        "a=np.array([[1,2,3,4],[5,6,7,8]])\n",
        "a[1,3]=-1\n",
        "print(a)\n",
        "print()\n",
        "a[1]"
      ],
      "metadata": {
        "colab": {
          "base_uri": "https://localhost:8080/"
        },
        "id": "1UbWolGrngY1",
        "outputId": "c8fff490-b2c3-4079-c771-401518aadefc"
      },
      "execution_count": null,
      "outputs": [
        {
          "output_type": "stream",
          "name": "stdout",
          "text": [
            "[[ 1  2  3  4]\n",
            " [ 5  6  7 -1]]\n",
            "\n"
          ]
        },
        {
          "output_type": "execute_result",
          "data": {
            "text/plain": [
              "array([ 5,  6,  7, -1])"
            ]
          },
          "metadata": {},
          "execution_count": 7
        }
      ]
    },
    {
      "cell_type": "markdown",
      "source": [
        "**STRIDES**(how many bytes skip to go to the next row /col)\n",
        "\n",
        "results in tuple(row,col)\n",
        "\n",
        "arr.strides[0]  bytes to skip to move to the next row.\n",
        "\n",
        "arr.strides[1] bytes to skip to move to the next col.\n",
        "(**int-4byte.....,float-8byte.......bool-1byte)**"
      ],
      "metadata": {
        "id": "PCp2xcnasQIV"
      }
    },
    {
      "cell_type": "code",
      "source": [
        "a=np.array([[1,2,3,4],[5,6,7,8]],dtype=np.int32)\n",
        "print(a)\n",
        "print()\n",
        "print(a.strides)\n",
        "print()\n",
        "print(a.T .strides)"
      ],
      "metadata": {
        "colab": {
          "base_uri": "https://localhost:8080/"
        },
        "id": "4kOEejEzsjLR",
        "outputId": "f0f95e3d-5ae0-484b-949c-f8218c64fac8"
      },
      "execution_count": null,
      "outputs": [
        {
          "output_type": "stream",
          "name": "stdout",
          "text": [
            "[[1 2 3 4]\n",
            " [5 6 7 8]]\n",
            "\n",
            "(16, 4)\n",
            "\n",
            "(4, 16)\n"
          ]
        }
      ]
    },
    {
      "cell_type": "code",
      "source": [
        "#slicing is a view not copy\n",
        "a=np.array([[1,2,3,4],[5,6,7,8]])\n",
        "a[0,::2]=10\n",
        "print(a)"
      ],
      "metadata": {
        "colab": {
          "base_uri": "https://localhost:8080/"
        },
        "id": "zbjU4aj5vO-l",
        "outputId": "a2d4fe03-f8c6-45da-c872-8a41574b7924"
      },
      "execution_count": null,
      "outputs": [
        {
          "output_type": "stream",
          "name": "stdout",
          "text": [
            "[[10  2 10  4]\n",
            " [ 5  6  7  8]]\n"
          ]
        }
      ]
    },
    {
      "cell_type": "code",
      "source": [
        "a=np.array([1,2,3,4])\n",
        "b=a[0:3]\n",
        "print(b)\n",
        "print()\n",
        "print(a)"
      ],
      "metadata": {
        "colab": {
          "base_uri": "https://localhost:8080/"
        },
        "id": "rkVy36hDxXEV",
        "outputId": "cde95dbb-9561-4f4b-e313-598e8a7c7b5e"
      },
      "execution_count": null,
      "outputs": [
        {
          "output_type": "stream",
          "name": "stdout",
          "text": [
            "[1 2 3]\n",
            "\n",
            "[1 2 3 4]\n"
          ]
        }
      ]
    },
    {
      "cell_type": "code",
      "source": [
        "a=np.arange(36).reshape(6,6)\n",
        "print(a)"
      ],
      "metadata": {
        "colab": {
          "base_uri": "https://localhost:8080/"
        },
        "id": "qidgJtXsyIMt",
        "outputId": "9d18ccaf-f555-4db8-99eb-80215c22d647"
      },
      "execution_count": null,
      "outputs": [
        {
          "output_type": "stream",
          "name": "stdout",
          "text": [
            "[[ 0  1  2  3  4  5]\n",
            " [ 6  7  8  9 10 11]\n",
            " [12 13 14 15 16 17]\n",
            " [18 19 20 21 22 23]\n",
            " [24 25 26 27 28 29]\n",
            " [30 31 32 33 34 35]]\n"
          ]
        }
      ]
    },
    {
      "cell_type": "markdown",
      "source": [
        "**Fancy /advanced indexing**\n",
        "pass arrays of indices in place of single scalars\n",
        "\n",
        " fancy indexing creates copies instead of views"
      ],
      "metadata": {
        "id": "vimZURH7zhJ4"
      }
    },
    {
      "cell_type": "code",
      "source": [
        "#indexing by position\n",
        "a=np.arange(0,80,10)\n",
        "print(a)\n",
        "x=a[[0,3,5]]\n",
        "print(x)\n",
        "y=np.take(a,[0,3,5])    #using take\n",
        "print(y)"
      ],
      "metadata": {
        "colab": {
          "base_uri": "https://localhost:8080/"
        },
        "id": "Fq1RIC2tzpS9",
        "outputId": "b9d0f2be-00b2-4fdd-9600-dd301ebf05d2"
      },
      "execution_count": null,
      "outputs": [
        {
          "output_type": "stream",
          "name": "stdout",
          "text": [
            "[ 0 10 20 30 40 50 60 70]\n",
            "[ 0 30 50]\n",
            "[ 0 30 50]\n"
          ]
        }
      ]
    },
    {
      "cell_type": "code",
      "source": [
        "#using T/F\n",
        "a=np.array([0,10,20,30,40,50,60])\n",
        "mask=np.array([0,0,1,1,0,1,1],dtype=bool)\n",
        "y=a[mask]\n",
        "print(y)"
      ],
      "metadata": {
        "colab": {
          "base_uri": "https://localhost:8080/"
        },
        "id": "ONmnBS2H1iKv",
        "outputId": "a40c4453-aa8b-41da-d963-2b59f54d0f70"
      },
      "execution_count": null,
      "outputs": [
        {
          "output_type": "stream",
          "name": "stdout",
          "text": [
            "[20 30 50 60]\n"
          ]
        }
      ]
    },
    {
      "cell_type": "code",
      "source": [
        " #using compress fun\n",
        "y = np.compress(mask, a)\n",
        "print(y)"
      ],
      "metadata": {
        "colab": {
          "base_uri": "https://localhost:8080/"
        },
        "id": "d4KrR0F72IfQ",
        "outputId": "1fd548f2-08f6-4f5c-afb1-c46933a6e264"
      },
      "execution_count": null,
      "outputs": [
        {
          "output_type": "stream",
          "name": "stdout",
          "text": [
            "[20 30 50 60]\n"
          ]
        }
      ]
    },
    {
      "cell_type": "code",
      "source": [
        "#in multiple dimensions\n",
        "a=np.array([[1,2,3,4],[6,7,8,9]])\n",
        "row=np.array([0,1])\n",
        "col=np.array([2,0])\n",
        "a[row,col]\n"
      ],
      "metadata": {
        "colab": {
          "base_uri": "https://localhost:8080/"
        },
        "id": "1xWlx9Qn3gb_",
        "outputId": "e90169ca-3c83-40ac-a693-311c8b0ecdcf"
      },
      "execution_count": null,
      "outputs": [
        {
          "output_type": "execute_result",
          "data": {
            "text/plain": [
              "array([3, 6])"
            ]
          },
          "metadata": {},
          "execution_count": 36
        }
      ]
    },
    {
      "cell_type": "code",
      "source": [
        "#simple indexing in 1D\n",
        "x=np.array([1,2,3,4,5,6])\n",
        "x[[2,4]]"
      ],
      "metadata": {
        "colab": {
          "base_uri": "https://localhost:8080/"
        },
        "id": "Pzeg2uT0422t",
        "outputId": "a890ce92-b9b7-435d-c7eb-46d70857f379"
      },
      "execution_count": null,
      "outputs": [
        {
          "output_type": "execute_result",
          "data": {
            "text/plain": [
              "array([3, 5])"
            ]
          },
          "metadata": {},
          "execution_count": 37
        }
      ]
    },
    {
      "cell_type": "code",
      "source": [
        "x=np.array([1,3,4,5,6,6723,75,45])\n",
        "a=np.array([0,4,5])\n",
        "x[a]"
      ],
      "metadata": {
        "colab": {
          "base_uri": "https://localhost:8080/"
        },
        "id": "z212nXnA5KjB",
        "outputId": "0196bb8e-02fd-470a-e3df-0e7dc16a5961"
      },
      "execution_count": null,
      "outputs": [
        {
          "output_type": "execute_result",
          "data": {
            "text/plain": [
              "array([   1,    6, 6723])"
            ]
          },
          "metadata": {},
          "execution_count": 39
        }
      ]
    },
    {
      "cell_type": "markdown",
      "source": [
        "combining fancy indexing with other scheme"
      ],
      "metadata": {
        "id": "4kCeM7FS7i1Z"
      }
    },
    {
      "cell_type": "code",
      "source": [
        "#combine fancy and simple indices:\n",
        "a=np.arange(18).reshape(2,3,3)\n",
        "print(a)\n",
        "a[0,1,[2,1]]\n"
      ],
      "metadata": {
        "colab": {
          "base_uri": "https://localhost:8080/"
        },
        "id": "T_Q9_bvY6tmT",
        "outputId": "d84a7f3a-4fc2-49e6-a3e1-bb439f5d6bf9"
      },
      "execution_count": null,
      "outputs": [
        {
          "output_type": "stream",
          "name": "stdout",
          "text": [
            "[[[ 0  1  2]\n",
            "  [ 3  4  5]\n",
            "  [ 6  7  8]]\n",
            "\n",
            " [[ 9 10 11]\n",
            "  [12 13 14]\n",
            "  [15 16 17]]]\n"
          ]
        },
        {
          "output_type": "execute_result",
          "data": {
            "text/plain": [
              "array([5, 4])"
            ]
          },
          "metadata": {},
          "execution_count": 44
        }
      ]
    },
    {
      "cell_type": "code",
      "source": [
        "#combine fancy indexing with slicing\n",
        "x=np.array([[1,2,3],[4,5,6]])\n",
        "x[:,[2,0]]"
      ],
      "metadata": {
        "colab": {
          "base_uri": "https://localhost:8080/"
        },
        "id": "t45jaAw77wBD",
        "outputId": "31267d8c-e05b-4531-8426-ea669c411b8d"
      },
      "execution_count": null,
      "outputs": [
        {
          "output_type": "execute_result",
          "data": {
            "text/plain": [
              "array([[3, 1],\n",
              "       [6, 4]])"
            ]
          },
          "metadata": {},
          "execution_count": 46
        }
      ]
    },
    {
      "cell_type": "code",
      "source": [
        "#Modifying Values with Fancy Indexing\n",
        "x=np.array([1,2,3,4,5])\n",
        "a=np.array([0,3,2])\n",
        "x[a]=69\n",
        "print(x)"
      ],
      "metadata": {
        "colab": {
          "base_uri": "https://localhost:8080/"
        },
        "id": "R4_BuZpZ8lLI",
        "outputId": "d6a38b2b-ed41-4ca0-e350-eb2560c2001c"
      },
      "execution_count": null,
      "outputs": [
        {
          "output_type": "stream",
          "name": "stdout",
          "text": [
            "[69  2 69 69  5]\n"
          ]
        }
      ]
    },
    {
      "cell_type": "code",
      "source": [
        "#accessing one to one mapping, 0,1    1,2   2,3\n",
        "arr=np.array([[0,1,2,3],\n",
        "[10,11,12,13],\n",
        "[20,21,22,23]])\n",
        "arr[(0,1,2),(1,2,3)]   #list of tuples"
      ],
      "metadata": {
        "colab": {
          "base_uri": "https://localhost:8080/"
        },
        "id": "7p8r5zqv89Ir",
        "outputId": "81f606f4-5764-4bed-a061-ad30591e4d22"
      },
      "execution_count": null,
      "outputs": [
        {
          "output_type": "execute_result",
          "data": {
            "text/plain": [
              "array([ 1, 12, 23])"
            ]
          },
          "metadata": {},
          "execution_count": 50
        }
      ]
    },
    {
      "cell_type": "code",
      "source": [
        "arr[1:,[0,2]]"
      ],
      "metadata": {
        "colab": {
          "base_uri": "https://localhost:8080/"
        },
        "id": "Sfxq0eDX_Bwl",
        "outputId": "16dae18e-b877-45a3-c925-06dbe39dfd44"
      },
      "execution_count": null,
      "outputs": [
        {
          "output_type": "execute_result",
          "data": {
            "text/plain": [
              "array([[10, 12],\n",
              "       [20, 22]])"
            ]
          },
          "metadata": {},
          "execution_count": 51
        }
      ]
    },
    {
      "cell_type": "code",
      "source": [
        "a=np.arange(12).reshape(3,4)\n",
        "print(a)\n",
        "print(np.sum(a,axis=0))\n",
        "print(np.sum(a,axis=1))\n",
        "print(np.sum(a))"
      ],
      "metadata": {
        "colab": {
          "base_uri": "https://localhost:8080/"
        },
        "id": "BT055Qdl_6Fl",
        "outputId": "b7943622-449a-4725-85a1-92dd4eac5a05"
      },
      "execution_count": null,
      "outputs": [
        {
          "output_type": "stream",
          "name": "stdout",
          "text": [
            "[[ 0  1  2  3]\n",
            " [ 4  5  6  7]\n",
            " [ 8  9 10 11]]\n",
            "[12 15 18 21]\n",
            "[ 6 22 38]\n",
            "66\n"
          ]
        }
      ]
    },
    {
      "cell_type": "code",
      "source": [
        "a=np.array([1,2,3,4])\n",
        "np.amin(a)"
      ],
      "metadata": {
        "colab": {
          "base_uri": "https://localhost:8080/"
        },
        "id": "_1rPA_ncGB-w",
        "outputId": "1a73d4de-3763-4ab0-c12a-7c8e86826382"
      },
      "execution_count": null,
      "outputs": [
        {
          "output_type": "execute_result",
          "data": {
            "text/plain": [
              "1"
            ]
          },
          "metadata": {},
          "execution_count": 56
        }
      ]
    },
    {
      "cell_type": "markdown",
      "source": [
        "** Filtering numpy array**"
      ],
      "metadata": {
        "id": "EVY6-cTUIgDa"
      }
    },
    {
      "cell_type": "code",
      "source": [
        "x=np.array([1,2,3,5])\n",
        "mask=x>2\n",
        "print(mask)\n",
        "print(x[mask])    #x[x>2]"
      ],
      "metadata": {
        "colab": {
          "base_uri": "https://localhost:8080/"
        },
        "id": "_f73SKLFIiji",
        "outputId": "db49b0b3-6ac1-4a8a-ae3c-435103c56732"
      },
      "execution_count": null,
      "outputs": [
        {
          "output_type": "stream",
          "name": "stdout",
          "text": [
            "[False False  True  True]\n",
            "[3 5]\n"
          ]
        }
      ]
    },
    {
      "cell_type": "markdown",
      "source": [
        "**CLIP ........ Given an interval, values outside the interval are clipped to the interval edges.**"
      ],
      "metadata": {
        "id": "_Wu0FaWoJNeD"
      }
    },
    {
      "cell_type": "code",
      "source": [
        "import numpy as np\n",
        "x=np.array([1,2,3,4,7,8,6,4])\n",
        "x.clip(2,4)         #val ranges b/w 2 and 4"
      ],
      "metadata": {
        "colab": {
          "base_uri": "https://localhost:8080/"
        },
        "id": "CTfn8NGSz2U5",
        "outputId": "22238fa0-f44c-469f-ba4b-e991b6ad1b3d"
      },
      "execution_count": null,
      "outputs": [
        {
          "output_type": "execute_result",
          "data": {
            "text/plain": [
              "array([2, 2, 3, 4, 4, 4, 4, 4])"
            ]
          },
          "metadata": {},
          "execution_count": 2
        }
      ]
    },
    {
      "cell_type": "code",
      "source": [
        "x=np.array([1,2,3,4,7,8,6,4])\n",
        "x.clip(2,4,out=x)   #out=x makes this op in-place, modify original arr directly."
      ],
      "metadata": {
        "colab": {
          "base_uri": "https://localhost:8080/"
        },
        "id": "nD8sc7h21PIQ",
        "outputId": "6baf4687-3743-47ee-b0f0-5882a820e733"
      },
      "execution_count": null,
      "outputs": [
        {
          "output_type": "execute_result",
          "data": {
            "text/plain": [
              "array([2, 2, 3, 4, 4, 4, 4, 4])"
            ]
          },
          "metadata": {},
          "execution_count": 4
        }
      ]
    },
    {
      "cell_type": "markdown",
      "source": [
        "**PTP(peek to peek)**\n",
        "gives (max-min)"
      ],
      "metadata": {
        "id": "jiLjllc72DNH"
      }
    },
    {
      "cell_type": "code",
      "source": [
        "x=np.arange(12).reshape(3,4)\n",
        "print(x)\n",
        "print()\n",
        "x.ptp(axis=0)    #x.ptp(0)"
      ],
      "metadata": {
        "colab": {
          "base_uri": "https://localhost:8080/"
        },
        "id": "wNyLsBmx3bwj",
        "outputId": "5a75304a-639c-4bec-96a6-27d3739d1076"
      },
      "execution_count": null,
      "outputs": [
        {
          "output_type": "stream",
          "name": "stdout",
          "text": [
            "[[ 0  1  2  3]\n",
            " [ 4  5  6  7]\n",
            " [ 8  9 10 11]]\n",
            "\n"
          ]
        },
        {
          "output_type": "execute_result",
          "data": {
            "text/plain": [
              "array([8, 8, 8, 8])"
            ]
          },
          "metadata": {},
          "execution_count": 9
        }
      ]
    },
    {
      "cell_type": "code",
      "source": [
        "x=np.arange(12).reshape(3,4)\n",
        "print(x)\n",
        "print()\n",
        "x.ptp(axis=1)      #x.ptp(1)"
      ],
      "metadata": {
        "colab": {
          "base_uri": "https://localhost:8080/"
        },
        "id": "bUUoeUgx2NlM",
        "outputId": "2d0d94ed-d27d-44ad-d9c6-226057179368"
      },
      "execution_count": null,
      "outputs": [
        {
          "output_type": "stream",
          "name": "stdout",
          "text": [
            "[[ 0  1  2  3]\n",
            " [ 4  5  6  7]\n",
            " [ 8  9 10 11]]\n",
            "\n"
          ]
        },
        {
          "output_type": "execute_result",
          "data": {
            "text/plain": [
              "array([3, 3, 3])"
            ]
          },
          "metadata": {},
          "execution_count": 7
        }
      ]
    },
    {
      "cell_type": "code",
      "source": [
        "x=np.arange(12).reshape(3,4)\n",
        "print(x)\n",
        "print()\n",
        "x.ptp()      #axis=None"
      ],
      "metadata": {
        "colab": {
          "base_uri": "https://localhost:8080/"
        },
        "id": "fBd1WpDJ3Uzl",
        "outputId": "8c49535c-3456-4043-c183-e25a5840d911"
      },
      "execution_count": null,
      "outputs": [
        {
          "output_type": "stream",
          "name": "stdout",
          "text": [
            "[[ 0  1  2  3]\n",
            " [ 4  5  6  7]\n",
            " [ 8  9 10 11]]\n",
            "\n"
          ]
        },
        {
          "output_type": "execute_result",
          "data": {
            "text/plain": [
              "11"
            ]
          },
          "metadata": {},
          "execution_count": 8
        }
      ]
    },
    {
      "cell_type": "code",
      "source": [
        "#concatenation\n",
        "import numpy as np\n",
        "arr1 = np.array([[1, 2], [3, 4]])\n",
        "arr2 = np.array([[5, 6]])\n",
        "\n",
        "concat1 = np.concatenate((arr1, arr2), axis=0)\n",
        "concat2 = np.concatenate((arr1, arr2.T), axis=1)\n",
        "\n",
        "print(concat1)\n",
        "print(concat2)"
      ],
      "metadata": {
        "id": "xb-jwx7GBWJk",
        "outputId": "71ebe4f2-2f98-40cd-97ca-f6a1f5b3d17a",
        "colab": {
          "base_uri": "https://localhost:8080/"
        }
      },
      "execution_count": null,
      "outputs": [
        {
          "output_type": "stream",
          "name": "stdout",
          "text": [
            "[[1 2]\n",
            " [3 4]\n",
            " [5 6]]\n",
            "[[1 2 5]\n",
            " [3 4 6]]\n"
          ]
        }
      ]
    }
  ]
}